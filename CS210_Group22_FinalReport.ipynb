{
  "cells": [
    {
      "cell_type": "markdown",
      "metadata": {
        "id": "tPdlcstH11mU"
      },
      "source": [
        "# Exploratory Data Analysis Regarding Airbnb Ratings in Los Angeles - Group 22\n",
        "\n",
        "Group Members:\n",
        "\n",
        "- Ahmet Alperen Güngör - 28847\n",
        "\n",
        "- Ali Cenker Yakışır - 28831\n",
        "\n",
        "- Aydın Enes Bekar - 29546\n",
        "\n",
        "- Batur Karakaya - 28881\n",
        "\n",
        "- Cansın Narşahin - 29126\n",
        "\n",
        "- İdil Yelçe - 28845"
      ]
    },
    {
      "cell_type": "markdown",
      "metadata": {
        "id": "B1iB4MSX3-6L"
      },
      "source": [
        "## Introduction\n",
        "\n",
        "<font color=\"white\">\n",
        "\n",
        "\n",
        "- Airbnb is a widely used platform for providing accommodation services, and ratings are a crucial factor for users to choose their accommodation. Therefore, it might be beneficial for both hosts and guests to find out how these ratings are formed. Our aim is to investigate which factors, if any, have direct influence over overall ratings of users’ accommodation experience. \n",
        "\n",
        "- In order to do so, we aim to examine factors such as neighborhood, amenities, price etc. to determine if there is a causation between these factors. In the first step, we will clean our data to dispose of corrupted values and places with low numbers of given ratings. In the aftermath, we will examine the correlations between these factors and the rating of accommodation to conduct and test our hypothesis.\n",
        "<br>\n",
        "\n",
        "</font>"
      ]
    },
    {
      "cell_type": "markdown",
      "metadata": {
        "id": "B2omK2BI4KyB"
      },
      "source": [
        "### Problem Definition\n",
        "\n",
        "<font color=\"white\">\n",
        "\n",
        "- It varies from individual to individual what makes a great accommodation experience for them. Since most people choose their accommodation according to the ratings, the question of which factors increase the ratings is important. Some people may look for higher ratings, but their personal preferences for certain features may not always be reflected in the rating of a particular accommodation. So, they usually look for that feature’s quality in the comments section and lose lots of time. Therefore, in this context, our project aims to assist individuals in finding accommodations that align with their specific preferences in a more efficient manner.\n",
        "<br>\n",
        "\n",
        "</font>"
      ]
    },
    {
      "cell_type": "markdown",
      "metadata": {
        "id": "ZjWMWVoA4NcV"
      },
      "source": [
        "### Utilized Datasets\n",
        "\n",
        "<font color=\"white\">\n",
        "\n",
        "-  The datasets that we use in our project are taken from the following link http://insideairbnb.com/get-the-data/ under Los Angeles section, namely listings.csv.\n",
        "\n",
        "-  In the main dataset, each row consists of the general information of the accommodation such as amenities, number of rooms and beds, rating of accommodation and so on (See Cell 1.1).\n",
        "\n",
        "- Since our point of interest concerns a certain region. In its original form, our dataset included 45815 rows and 75 columns. Since our dataset contains incomplete rows and columns that are irrelevant to our goal, those rows and columns were filtered not just for easing further computations, but also for displaying more readable and more accurate values (See Cells 1.2, 1.3). \n",
        "\n",
        "- Additionally, since we aim to investigate the change in ratings, we have filtered the rows that had null value in their \"review_scores_rating\" column which had 10579 null values in total. After filtering both the rows and the columns, their number appeared to be 35236 and 21 respectively (See Cell 1.4-1.8).\n",
        "\n",
        "- The data types that the columns included were float, string and integer values (See Cell 2.1). Furthermore, ratings of accommodations and their counts were plotted in Cell 2.2.\n",
        "<br>\n",
        "\n",
        "</font>"
      ]
    },
    {
      "cell_type": "markdown",
      "metadata": {
        "id": "ict00io34o_x"
      },
      "source": [
        "## Data Exploration\n",
        "\n",
        "<font color=\"white\">\n",
        "\n",
        "- We will be clearing the data and remove the features that are irrelevant for our proejct. Some features are needed to be derived from some other columns we cannot use in given format. They will be refactored in a way that can be used for analysis.\n",
        "<br>\n",
        "\n",
        "</font>"
      ]
    },
    {
      "cell_type": "markdown",
      "metadata": {
        "id": "45HPsW2QoWSn"
      },
      "source": [
        "Connect and load data from related path."
      ]
    },
    {
      "cell_type": "code",
      "execution_count": null,
      "metadata": {
        "colab": {
          "base_uri": "https://localhost:8080/"
        },
        "id": "IPvpI6kKl_q2",
        "outputId": "debc705e-cd40-4cc2-af4c-6dfe838d8f09",
        "vscode": {
          "languageId": "python"
        }
      },
      "outputs": [
        {
          "name": "stdout",
          "output_type": "stream",
          "text": [
            "Drive already mounted at ./drive; to attempt to forcibly remount, call drive.mount(\"./drive\", force_remount=True).\n"
          ]
        }
      ],
      "source": [
        "# Cell 0.1\n",
        "\n",
        "from google.colab import drive\n",
        "drive.mount(\"./drive\")"
      ]
    },
    {
      "cell_type": "code",
      "execution_count": null,
      "metadata": {
        "id": "Oa6s0Frjl_rE",
        "vscode": {
          "languageId": "python"
        }
      },
      "outputs": [],
      "source": [
        "# Cell 0.2\n",
        "\n",
        "import pandas as pd\n",
        "import numpy as np\n",
        "import matplotlib.pyplot as plt\n",
        "import seaborn as sns\n",
        "\n",
        "from os.path import join\n"
      ]
    },
    {
      "cell_type": "markdown",
      "metadata": {
        "id": "4eMwlx49odpl"
      },
      "source": [
        "Examine the starting data. There are lots of columns like urls that are irrelevant for our work."
      ]
    },
    {
      "cell_type": "code",
      "execution_count": null,
      "metadata": {
        "colab": {
          "base_uri": "https://localhost:8080/",
          "height": 445
        },
        "id": "3ou05TnXl_rF",
        "outputId": "246999a9-7385-44eb-8aa8-216b1d7524f6",
        "vscode": {
          "languageId": "python"
        }
      },
      "outputs": [
        {
          "data": {
            "text/html": [
              "\n",
              "  <div id=\"df-88c0dbdf-090c-4e7b-a6f4-1fecc3026882\">\n",
              "    <div class=\"colab-df-container\">\n",
              "      <div>\n",
              "<style scoped>\n",
              "    .dataframe tbody tr th:only-of-type {\n",
              "        vertical-align: middle;\n",
              "    }\n",
              "\n",
              "    .dataframe tbody tr th {\n",
              "        vertical-align: top;\n",
              "    }\n",
              "\n",
              "    .dataframe thead th {\n",
              "        text-align: right;\n",
              "    }\n",
              "</style>\n",
              "<table border=\"1\" class=\"dataframe\">\n",
              "  <thead>\n",
              "    <tr style=\"text-align: right;\">\n",
              "      <th></th>\n",
              "      <th>id</th>\n",
              "      <th>listing_url</th>\n",
              "      <th>scrape_id</th>\n",
              "      <th>last_scraped</th>\n",
              "      <th>source</th>\n",
              "      <th>name</th>\n",
              "      <th>description</th>\n",
              "      <th>neighborhood_overview</th>\n",
              "      <th>picture_url</th>\n",
              "      <th>host_id</th>\n",
              "      <th>...</th>\n",
              "      <th>review_scores_communication</th>\n",
              "      <th>review_scores_location</th>\n",
              "      <th>review_scores_value</th>\n",
              "      <th>license</th>\n",
              "      <th>instant_bookable</th>\n",
              "      <th>calculated_host_listings_count</th>\n",
              "      <th>calculated_host_listings_count_entire_homes</th>\n",
              "      <th>calculated_host_listings_count_private_rooms</th>\n",
              "      <th>calculated_host_listings_count_shared_rooms</th>\n",
              "      <th>reviews_per_month</th>\n",
              "    </tr>\n",
              "  </thead>\n",
              "  <tbody>\n",
              "    <tr>\n",
              "      <th>0</th>\n",
              "      <td>183319</td>\n",
              "      <td>https://www.airbnb.com/rooms/183319</td>\n",
              "      <td>20220909140055</td>\n",
              "      <td>2022-09-10</td>\n",
              "      <td>previous scrape</td>\n",
              "      <td>Panoramic Ocean View Venice Beach</td>\n",
              "      <td>Craftsmen style penthouse with ocean view from...</td>\n",
              "      <td>About as close to the beach as you can live in...</td>\n",
              "      <td>https://a0.muscache.com/pictures/1170205/e2596...</td>\n",
              "      <td>867995</td>\n",
              "      <td>...</td>\n",
              "      <td>5.00</td>\n",
              "      <td>5.00</td>\n",
              "      <td>5.00</td>\n",
              "      <td>NaN</td>\n",
              "      <td>f</td>\n",
              "      <td>2</td>\n",
              "      <td>2</td>\n",
              "      <td>0</td>\n",
              "      <td>0</td>\n",
              "      <td>0.02</td>\n",
              "    </tr>\n",
              "    <tr>\n",
              "      <th>1</th>\n",
              "      <td>51307</td>\n",
              "      <td>https://www.airbnb.com/rooms/51307</td>\n",
              "      <td>20220909140055</td>\n",
              "      <td>2022-09-10</td>\n",
              "      <td>city scrape</td>\n",
              "      <td>Spanish Bungalow Guest House LA CA. 30 plus ni...</td>\n",
              "      <td>PRIVATE GUEST HOUSE&lt;br /&gt;&lt;br /&gt;&lt;b&gt;The space&lt;/b...</td>\n",
              "      <td>Local LA  Community , shops and restaurants in...</td>\n",
              "      <td>https://a0.muscache.com/pictures/294658/ac8d6e...</td>\n",
              "      <td>235568</td>\n",
              "      <td>...</td>\n",
              "      <td>4.85</td>\n",
              "      <td>4.95</td>\n",
              "      <td>4.76</td>\n",
              "      <td>NaN</td>\n",
              "      <td>f</td>\n",
              "      <td>2</td>\n",
              "      <td>2</td>\n",
              "      <td>0</td>\n",
              "      <td>0</td>\n",
              "      <td>0.98</td>\n",
              "    </tr>\n",
              "    <tr>\n",
              "      <th>2</th>\n",
              "      <td>184314</td>\n",
              "      <td>https://www.airbnb.com/rooms/184314</td>\n",
              "      <td>20220909140055</td>\n",
              "      <td>2022-09-10</td>\n",
              "      <td>previous scrape</td>\n",
              "      <td>Boho Chic Flat..Steps to Beach!</td>\n",
              "      <td>Bright, airy, quiet 1 bdr located just steps f...</td>\n",
              "      <td>You are in one of the beach locations in Los A...</td>\n",
              "      <td>https://a0.muscache.com/pictures/0bc2f8b7-9378...</td>\n",
              "      <td>884031</td>\n",
              "      <td>...</td>\n",
              "      <td>4.93</td>\n",
              "      <td>4.89</td>\n",
              "      <td>4.85</td>\n",
              "      <td>NaN</td>\n",
              "      <td>t</td>\n",
              "      <td>1</td>\n",
              "      <td>1</td>\n",
              "      <td>0</td>\n",
              "      <td>0</td>\n",
              "      <td>0.22</td>\n",
              "    </tr>\n",
              "  </tbody>\n",
              "</table>\n",
              "<p>3 rows × 75 columns</p>\n",
              "</div>\n",
              "      <button class=\"colab-df-convert\" onclick=\"convertToInteractive('df-88c0dbdf-090c-4e7b-a6f4-1fecc3026882')\"\n",
              "              title=\"Convert this dataframe to an interactive table.\"\n",
              "              style=\"display:none;\">\n",
              "        \n",
              "  <svg xmlns=\"http://www.w3.org/2000/svg\" height=\"24px\"viewBox=\"0 0 24 24\"\n",
              "       width=\"24px\">\n",
              "    <path d=\"M0 0h24v24H0V0z\" fill=\"none\"/>\n",
              "    <path d=\"M18.56 5.44l.94 2.06.94-2.06 2.06-.94-2.06-.94-.94-2.06-.94 2.06-2.06.94zm-11 1L8.5 8.5l.94-2.06 2.06-.94-2.06-.94L8.5 2.5l-.94 2.06-2.06.94zm10 10l.94 2.06.94-2.06 2.06-.94-2.06-.94-.94-2.06-.94 2.06-2.06.94z\"/><path d=\"M17.41 7.96l-1.37-1.37c-.4-.4-.92-.59-1.43-.59-.52 0-1.04.2-1.43.59L10.3 9.45l-7.72 7.72c-.78.78-.78 2.05 0 2.83L4 21.41c.39.39.9.59 1.41.59.51 0 1.02-.2 1.41-.59l7.78-7.78 2.81-2.81c.8-.78.8-2.07 0-2.86zM5.41 20L4 18.59l7.72-7.72 1.47 1.35L5.41 20z\"/>\n",
              "  </svg>\n",
              "      </button>\n",
              "      \n",
              "  <style>\n",
              "    .colab-df-container {\n",
              "      display:flex;\n",
              "      flex-wrap:wrap;\n",
              "      gap: 12px;\n",
              "    }\n",
              "\n",
              "    .colab-df-convert {\n",
              "      background-color: #E8F0FE;\n",
              "      border: none;\n",
              "      border-radius: 50%;\n",
              "      cursor: pointer;\n",
              "      display: none;\n",
              "      fill: #1967D2;\n",
              "      height: 32px;\n",
              "      padding: 0 0 0 0;\n",
              "      width: 32px;\n",
              "    }\n",
              "\n",
              "    .colab-df-convert:hover {\n",
              "      background-color: #E2EBFA;\n",
              "      box-shadow: 0px 1px 2px rgba(60, 64, 67, 0.3), 0px 1px 3px 1px rgba(60, 64, 67, 0.15);\n",
              "      fill: #174EA6;\n",
              "    }\n",
              "\n",
              "    [theme=dark] .colab-df-convert {\n",
              "      background-color: #3B4455;\n",
              "      fill: #D2E3FC;\n",
              "    }\n",
              "\n",
              "    [theme=dark] .colab-df-convert:hover {\n",
              "      background-color: #434B5C;\n",
              "      box-shadow: 0px 1px 3px 1px rgba(0, 0, 0, 0.15);\n",
              "      filter: drop-shadow(0px 1px 2px rgba(0, 0, 0, 0.3));\n",
              "      fill: #FFFFFF;\n",
              "    }\n",
              "  </style>\n",
              "\n",
              "      <script>\n",
              "        const buttonEl =\n",
              "          document.querySelector('#df-88c0dbdf-090c-4e7b-a6f4-1fecc3026882 button.colab-df-convert');\n",
              "        buttonEl.style.display =\n",
              "          google.colab.kernel.accessAllowed ? 'block' : 'none';\n",
              "\n",
              "        async function convertToInteractive(key) {\n",
              "          const element = document.querySelector('#df-88c0dbdf-090c-4e7b-a6f4-1fecc3026882');\n",
              "          const dataTable =\n",
              "            await google.colab.kernel.invokeFunction('convertToInteractive',\n",
              "                                                     [key], {});\n",
              "          if (!dataTable) return;\n",
              "\n",
              "          const docLinkHtml = 'Like what you see? Visit the ' +\n",
              "            '<a target=\"_blank\" href=https://colab.research.google.com/notebooks/data_table.ipynb>data table notebook</a>'\n",
              "            + ' to learn more about interactive tables.';\n",
              "          element.innerHTML = '';\n",
              "          dataTable['output_type'] = 'display_data';\n",
              "          await google.colab.output.renderOutput(dataTable, element);\n",
              "          const docLink = document.createElement('div');\n",
              "          docLink.innerHTML = docLinkHtml;\n",
              "          element.appendChild(docLink);\n",
              "        }\n",
              "      </script>\n",
              "    </div>\n",
              "  </div>\n",
              "  "
            ],
            "text/plain": [
              "       id                          listing_url       scrape_id last_scraped  \\\n",
              "0  183319  https://www.airbnb.com/rooms/183319  20220909140055   2022-09-10   \n",
              "1   51307   https://www.airbnb.com/rooms/51307  20220909140055   2022-09-10   \n",
              "2  184314  https://www.airbnb.com/rooms/184314  20220909140055   2022-09-10   \n",
              "\n",
              "            source                                               name  \\\n",
              "0  previous scrape                  Panoramic Ocean View Venice Beach   \n",
              "1      city scrape  Spanish Bungalow Guest House LA CA. 30 plus ni...   \n",
              "2  previous scrape                    Boho Chic Flat..Steps to Beach!   \n",
              "\n",
              "                                         description  \\\n",
              "0  Craftsmen style penthouse with ocean view from...   \n",
              "1  PRIVATE GUEST HOUSE<br /><br /><b>The space</b...   \n",
              "2  Bright, airy, quiet 1 bdr located just steps f...   \n",
              "\n",
              "                               neighborhood_overview  \\\n",
              "0  About as close to the beach as you can live in...   \n",
              "1  Local LA  Community , shops and restaurants in...   \n",
              "2  You are in one of the beach locations in Los A...   \n",
              "\n",
              "                                         picture_url  host_id  ...  \\\n",
              "0  https://a0.muscache.com/pictures/1170205/e2596...   867995  ...   \n",
              "1  https://a0.muscache.com/pictures/294658/ac8d6e...   235568  ...   \n",
              "2  https://a0.muscache.com/pictures/0bc2f8b7-9378...   884031  ...   \n",
              "\n",
              "  review_scores_communication review_scores_location review_scores_value  \\\n",
              "0                        5.00                   5.00                5.00   \n",
              "1                        4.85                   4.95                4.76   \n",
              "2                        4.93                   4.89                4.85   \n",
              "\n",
              "  license instant_bookable calculated_host_listings_count  \\\n",
              "0     NaN                f                              2   \n",
              "1     NaN                f                              2   \n",
              "2     NaN                t                              1   \n",
              "\n",
              "  calculated_host_listings_count_entire_homes  \\\n",
              "0                                           2   \n",
              "1                                           2   \n",
              "2                                           1   \n",
              "\n",
              "  calculated_host_listings_count_private_rooms  \\\n",
              "0                                            0   \n",
              "1                                            0   \n",
              "2                                            0   \n",
              "\n",
              "  calculated_host_listings_count_shared_rooms reviews_per_month  \n",
              "0                                           0              0.02  \n",
              "1                                           0              0.98  \n",
              "2                                           0              0.22  \n",
              "\n",
              "[3 rows x 75 columns]"
            ]
          },
          "execution_count": 61,
          "metadata": {},
          "output_type": "execute_result"
        }
      ],
      "source": [
        "# Cell 1.1\n",
        "\n",
        "fname = 'listings.csv'             \n",
        "path_prefix = 'drive/MyDrive/'\n",
        "df = pd.read_csv(join(path_prefix, fname))\n",
        "df.head(3)"
      ]
    },
    {
      "cell_type": "code",
      "execution_count": null,
      "metadata": {
        "colab": {
          "base_uri": "https://localhost:8080/"
        },
        "id": "-OV0kepZl_rF",
        "outputId": "58fd9996-79a8-4b9a-c4ba-ab3406d81fad",
        "vscode": {
          "languageId": "python"
        }
      },
      "outputs": [
        {
          "name": "stdout",
          "output_type": "stream",
          "text": [
            "Initially, there are 45815 rows and 75 columns\n",
            "\n"
          ]
        }
      ],
      "source": [
        "# Cell 1.2\n",
        "\n",
        "num_rows, num_cols = df.shape\n",
        "print(\"Initially, there are\", num_rows ,\"rows and\", num_cols, \"columns\\n\")"
      ]
    },
    {
      "cell_type": "markdown",
      "metadata": {
        "id": "toA2Np-Bou40"
      },
      "source": [
        "We are listing the columns that are certainly not going to be used."
      ]
    },
    {
      "cell_type": "code",
      "execution_count": null,
      "metadata": {
        "id": "5-LgJs--l_rG",
        "vscode": {
          "languageId": "python"
        }
      },
      "outputs": [],
      "source": [
        "# Cell 1.3\n",
        "\n",
        "# The columns that we decided not to include in our project\n",
        "\n",
        "to_del = [\"review_scores_cleanliness\", \"review_scores_accuracy\", \"review_scores_checkin\", \"review_scores_communication\", \"review_scores_location\", \"review_scores_value\", \"host_neighbourhood\", \"accommodates\", \"reviews_per_month\", 'listing_url', 'scrape_id', 'last_scraped', 'source', 'name', 'description', 'neighborhood_overview', 'picture_url', 'host_id', 'host_url',\n",
        " 'host_name', 'host_since', 'host_location', 'host_about', 'host_thumbnail_url', 'host_picture_url', 'host_listings_count', 'host_total_listings_count',\n",
        " 'host_verifications', 'host_has_profile_pic', 'host_identity_verified', 'neighbourhood_group_cleansed', 'latitude', 'longitude', 'bathrooms', 'minimum_nights',\n",
        " 'maximum_nights', 'minimum_minimum_nights', 'maximum_minimum_nights', 'minimum_maximum_nights', 'maximum_maximum_nights', 'minimum_nights_avg_ntm',\n",
        " 'maximum_nights_avg_ntm', 'calendar_updated', 'has_availability', 'availability_30', 'availability_60', 'availability_90', 'availability_365',\n",
        " 'calendar_last_scraped', 'number_of_reviews_ltm', 'number_of_reviews_l30d', 'first_review', 'last_review', 'license', 'instant_bookable',\n",
        " 'calculated_host_listings_count', 'calculated_host_listings_count_entire_homes', 'calculated_host_listings_count_private_rooms',\n",
        " 'calculated_host_listings_count_shared_rooms','neighbourhood','number_of_reviews']\n",
        "\n"
      ]
    },
    {
      "cell_type": "markdown",
      "metadata": {
        "id": "sd8E-awko9o8"
      },
      "source": [
        "Drop the given columns and report the new shape:"
      ]
    },
    {
      "cell_type": "code",
      "execution_count": null,
      "metadata": {
        "colab": {
          "base_uri": "https://localhost:8080/"
        },
        "id": "uMnPwPLXl_rG",
        "outputId": "c01c3f8f-e3d4-4c7a-d280-f3d80f08af81",
        "vscode": {
          "languageId": "python"
        }
      },
      "outputs": [
        {
          "name": "stdout",
          "output_type": "stream",
          "text": [
            "After cleaning unusefull columns, there are 45815 rows and 14 columns\n",
            "\n"
          ]
        }
      ],
      "source": [
        "# Cell 1.4\n",
        "\n",
        "df.drop(to_del, axis=1, inplace=True)\n",
        "num_rows, num_cols = df.shape\n",
        "print(\"After cleaning unusefull columns, there are\", num_rows ,\"rows and\", num_cols, \"columns\\n\")"
      ]
    },
    {
      "cell_type": "code",
      "execution_count": null,
      "metadata": {
        "colab": {
          "base_uri": "https://localhost:8080/",
          "height": 398
        },
        "id": "cuLZunapl_rG",
        "outputId": "dbf89e93-ff2a-4a3f-9d92-f19a1da50d6b",
        "vscode": {
          "languageId": "python"
        }
      },
      "outputs": [
        {
          "data": {
            "text/html": [
              "\n",
              "  <div id=\"df-12bf4732-2449-461e-9d08-3bf9bbb47e3f\">\n",
              "    <div class=\"colab-df-container\">\n",
              "      <div>\n",
              "<style scoped>\n",
              "    .dataframe tbody tr th:only-of-type {\n",
              "        vertical-align: middle;\n",
              "    }\n",
              "\n",
              "    .dataframe tbody tr th {\n",
              "        vertical-align: top;\n",
              "    }\n",
              "\n",
              "    .dataframe thead th {\n",
              "        text-align: right;\n",
              "    }\n",
              "</style>\n",
              "<table border=\"1\" class=\"dataframe\">\n",
              "  <thead>\n",
              "    <tr style=\"text-align: right;\">\n",
              "      <th></th>\n",
              "      <th>id</th>\n",
              "      <th>host_response_time</th>\n",
              "      <th>host_response_rate</th>\n",
              "      <th>host_acceptance_rate</th>\n",
              "      <th>host_is_superhost</th>\n",
              "      <th>neighbourhood_cleansed</th>\n",
              "      <th>property_type</th>\n",
              "      <th>room_type</th>\n",
              "      <th>bathrooms_text</th>\n",
              "      <th>bedrooms</th>\n",
              "      <th>beds</th>\n",
              "      <th>amenities</th>\n",
              "      <th>price</th>\n",
              "      <th>review_scores_rating</th>\n",
              "    </tr>\n",
              "  </thead>\n",
              "  <tbody>\n",
              "    <tr>\n",
              "      <th>0</th>\n",
              "      <td>183319</td>\n",
              "      <td>within a day</td>\n",
              "      <td>100%</td>\n",
              "      <td>100%</td>\n",
              "      <td>f</td>\n",
              "      <td>Venice</td>\n",
              "      <td>Entire rental unit</td>\n",
              "      <td>Entire home/apt</td>\n",
              "      <td>1 bath</td>\n",
              "      <td>2.0</td>\n",
              "      <td>2.0</td>\n",
              "      <td>[\"Bed linens\", \"Heating\", \"Dishes and silverwa...</td>\n",
              "      <td>$152.00</td>\n",
              "      <td>5.00</td>\n",
              "    </tr>\n",
              "    <tr>\n",
              "      <th>1</th>\n",
              "      <td>51307</td>\n",
              "      <td>NaN</td>\n",
              "      <td>NaN</td>\n",
              "      <td>NaN</td>\n",
              "      <td>f</td>\n",
              "      <td>Atwater Village</td>\n",
              "      <td>Entire bungalow</td>\n",
              "      <td>Entire home/apt</td>\n",
              "      <td>1 bath</td>\n",
              "      <td>1.0</td>\n",
              "      <td>1.0</td>\n",
              "      <td>[\"Air conditioning\", \"Bed linens\", \"Carbon mon...</td>\n",
              "      <td>$75.00</td>\n",
              "      <td>4.64</td>\n",
              "    </tr>\n",
              "    <tr>\n",
              "      <th>2</th>\n",
              "      <td>184314</td>\n",
              "      <td>NaN</td>\n",
              "      <td>NaN</td>\n",
              "      <td>NaN</td>\n",
              "      <td>f</td>\n",
              "      <td>Venice</td>\n",
              "      <td>Entire rental unit</td>\n",
              "      <td>Entire home/apt</td>\n",
              "      <td>1 bath</td>\n",
              "      <td>1.0</td>\n",
              "      <td>1.0</td>\n",
              "      <td>[\"Hangers\", \"Dryer\", \"Smoke alarm\", \"Kitchen\",...</td>\n",
              "      <td>$125.00</td>\n",
              "      <td>4.88</td>\n",
              "    </tr>\n",
              "  </tbody>\n",
              "</table>\n",
              "</div>\n",
              "      <button class=\"colab-df-convert\" onclick=\"convertToInteractive('df-12bf4732-2449-461e-9d08-3bf9bbb47e3f')\"\n",
              "              title=\"Convert this dataframe to an interactive table.\"\n",
              "              style=\"display:none;\">\n",
              "        \n",
              "  <svg xmlns=\"http://www.w3.org/2000/svg\" height=\"24px\"viewBox=\"0 0 24 24\"\n",
              "       width=\"24px\">\n",
              "    <path d=\"M0 0h24v24H0V0z\" fill=\"none\"/>\n",
              "    <path d=\"M18.56 5.44l.94 2.06.94-2.06 2.06-.94-2.06-.94-.94-2.06-.94 2.06-2.06.94zm-11 1L8.5 8.5l.94-2.06 2.06-.94-2.06-.94L8.5 2.5l-.94 2.06-2.06.94zm10 10l.94 2.06.94-2.06 2.06-.94-2.06-.94-.94-2.06-.94 2.06-2.06.94z\"/><path d=\"M17.41 7.96l-1.37-1.37c-.4-.4-.92-.59-1.43-.59-.52 0-1.04.2-1.43.59L10.3 9.45l-7.72 7.72c-.78.78-.78 2.05 0 2.83L4 21.41c.39.39.9.59 1.41.59.51 0 1.02-.2 1.41-.59l7.78-7.78 2.81-2.81c.8-.78.8-2.07 0-2.86zM5.41 20L4 18.59l7.72-7.72 1.47 1.35L5.41 20z\"/>\n",
              "  </svg>\n",
              "      </button>\n",
              "      \n",
              "  <style>\n",
              "    .colab-df-container {\n",
              "      display:flex;\n",
              "      flex-wrap:wrap;\n",
              "      gap: 12px;\n",
              "    }\n",
              "\n",
              "    .colab-df-convert {\n",
              "      background-color: #E8F0FE;\n",
              "      border: none;\n",
              "      border-radius: 50%;\n",
              "      cursor: pointer;\n",
              "      display: none;\n",
              "      fill: #1967D2;\n",
              "      height: 32px;\n",
              "      padding: 0 0 0 0;\n",
              "      width: 32px;\n",
              "    }\n",
              "\n",
              "    .colab-df-convert:hover {\n",
              "      background-color: #E2EBFA;\n",
              "      box-shadow: 0px 1px 2px rgba(60, 64, 67, 0.3), 0px 1px 3px 1px rgba(60, 64, 67, 0.15);\n",
              "      fill: #174EA6;\n",
              "    }\n",
              "\n",
              "    [theme=dark] .colab-df-convert {\n",
              "      background-color: #3B4455;\n",
              "      fill: #D2E3FC;\n",
              "    }\n",
              "\n",
              "    [theme=dark] .colab-df-convert:hover {\n",
              "      background-color: #434B5C;\n",
              "      box-shadow: 0px 1px 3px 1px rgba(0, 0, 0, 0.15);\n",
              "      filter: drop-shadow(0px 1px 2px rgba(0, 0, 0, 0.3));\n",
              "      fill: #FFFFFF;\n",
              "    }\n",
              "  </style>\n",
              "\n",
              "      <script>\n",
              "        const buttonEl =\n",
              "          document.querySelector('#df-12bf4732-2449-461e-9d08-3bf9bbb47e3f button.colab-df-convert');\n",
              "        buttonEl.style.display =\n",
              "          google.colab.kernel.accessAllowed ? 'block' : 'none';\n",
              "\n",
              "        async function convertToInteractive(key) {\n",
              "          const element = document.querySelector('#df-12bf4732-2449-461e-9d08-3bf9bbb47e3f');\n",
              "          const dataTable =\n",
              "            await google.colab.kernel.invokeFunction('convertToInteractive',\n",
              "                                                     [key], {});\n",
              "          if (!dataTable) return;\n",
              "\n",
              "          const docLinkHtml = 'Like what you see? Visit the ' +\n",
              "            '<a target=\"_blank\" href=https://colab.research.google.com/notebooks/data_table.ipynb>data table notebook</a>'\n",
              "            + ' to learn more about interactive tables.';\n",
              "          element.innerHTML = '';\n",
              "          dataTable['output_type'] = 'display_data';\n",
              "          await google.colab.output.renderOutput(dataTable, element);\n",
              "          const docLink = document.createElement('div');\n",
              "          docLink.innerHTML = docLinkHtml;\n",
              "          element.appendChild(docLink);\n",
              "        }\n",
              "      </script>\n",
              "    </div>\n",
              "  </div>\n",
              "  "
            ],
            "text/plain": [
              "       id host_response_time host_response_rate host_acceptance_rate  \\\n",
              "0  183319       within a day               100%                 100%   \n",
              "1   51307                NaN                NaN                  NaN   \n",
              "2  184314                NaN                NaN                  NaN   \n",
              "\n",
              "  host_is_superhost neighbourhood_cleansed       property_type  \\\n",
              "0                 f                 Venice  Entire rental unit   \n",
              "1                 f        Atwater Village     Entire bungalow   \n",
              "2                 f                 Venice  Entire rental unit   \n",
              "\n",
              "         room_type bathrooms_text  bedrooms  beds  \\\n",
              "0  Entire home/apt         1 bath       2.0   2.0   \n",
              "1  Entire home/apt         1 bath       1.0   1.0   \n",
              "2  Entire home/apt         1 bath       1.0   1.0   \n",
              "\n",
              "                                           amenities    price  \\\n",
              "0  [\"Bed linens\", \"Heating\", \"Dishes and silverwa...  $152.00   \n",
              "1  [\"Air conditioning\", \"Bed linens\", \"Carbon mon...   $75.00   \n",
              "2  [\"Hangers\", \"Dryer\", \"Smoke alarm\", \"Kitchen\",...  $125.00   \n",
              "\n",
              "   review_scores_rating  \n",
              "0                  5.00  \n",
              "1                  4.64  \n",
              "2                  4.88  "
            ]
          },
          "execution_count": 65,
          "metadata": {},
          "output_type": "execute_result"
        }
      ],
      "source": [
        "# Cell 1.5\n",
        "\n",
        "# Sample of the dataset after filtering columns\n",
        "\n",
        "df.head(3)"
      ]
    },
    {
      "cell_type": "markdown",
      "metadata": {
        "id": "N8iV2EEguhV5"
      },
      "source": [
        "Number of null elements in each column prior to filtering rows:"
      ]
    },
    {
      "cell_type": "code",
      "execution_count": null,
      "metadata": {
        "colab": {
          "base_uri": "https://localhost:8080/",
          "height": 483
        },
        "id": "Pl761_FOl_rG",
        "outputId": "d8e911ef-26cf-4b3c-97bc-19299a69647c",
        "vscode": {
          "languageId": "python"
        }
      },
      "outputs": [
        {
          "data": {
            "image/png": "[encoded data removed]",
            "text/plain": [
              "<Figure size 1080x576 with 1 Axes>"
            ]
          },
          "metadata": {
            "needs_background": "light"
          },
          "output_type": "display_data"
        }
      ],
      "source": [
        "# Cell 1.6\n",
        "\n",
        "# Changing the size of the figure\n",
        "plt.figure(figsize=(15,8))\n",
        "\n",
        "# Count the number of null values in each column\n",
        "null_counts = df.isnull().sum()\n",
        "\n",
        "# Plot the null count for each column\n",
        "null_counts.plot(kind='barh')\n",
        "\n",
        "# Show the plot\n",
        "plt.show()\n"
      ]
    },
    {
      "cell_type": "markdown",
      "metadata": {
        "id": "SnlnueEjuptM"
      },
      "source": [
        "Discard the rows with null ratings since it is our main parameter, and report the remained null values:"
      ]
    },
    {
      "cell_type": "code",
      "execution_count": null,
      "metadata": {
        "colab": {
          "base_uri": "https://localhost:8080/",
          "height": 483
        },
        "id": "oltZtgS_l_rH",
        "outputId": "942e2b25-69f2-4527-eb77-6354fff7ce10",
        "vscode": {
          "languageId": "python"
        }
      },
      "outputs": [
        {
          "data": {
            "image/png": "[encoded data removed]",
            "text/plain": [
              "<Figure size 1080x576 with 1 Axes>"
            ]
          },
          "metadata": {
            "needs_background": "light"
          },
          "output_type": "display_data"
        }
      ],
      "source": [
        "# Cell 1.7\n",
        "\n",
        "# Changing the size of the figure\n",
        "plt.figure(figsize=(15,8))\n",
        "\n",
        "# Since we are going to use ratings as our main parameter, we have discarded the rows which had null values in their \"review_scores_rating\" column.\n",
        "df = df[(df['review_scores_rating'].notnull())]\n",
        "\n",
        "# The null values remained in each column after filtering with respect to ratings are as follows:\n",
        "# Count the number of null values in each column\n",
        "null_counts = df.isnull().sum()\n",
        "\n",
        "# Plot the null count for each column\n",
        "null_counts.plot(kind='barh',color='red')\n",
        "\n",
        "# Show the plot\n",
        "plt.show()"
      ]
    },
    {
      "cell_type": "markdown",
      "metadata": {
        "id": "JQ6r01GXu9cf"
      },
      "source": [
        "Report the new shape and types of columns."
      ]
    },
    {
      "cell_type": "code",
      "execution_count": null,
      "metadata": {
        "colab": {
          "base_uri": "https://localhost:8080/"
        },
        "id": "iItD76h2l_rH",
        "outputId": "4f9147b2-0ed4-48ca-8cc0-a1840dd0f93d",
        "vscode": {
          "languageId": "python"
        }
      },
      "outputs": [
        {
          "name": "stdout",
          "output_type": "stream",
          "text": [
            "\n",
            "After cleaning null ratings, there are 35236 rows and 14 columns\n",
            "\n"
          ]
        }
      ],
      "source": [
        "# Cell 1.8\n",
        "\n",
        "# After discarding null rating the number of rows and columns appeared to be as follows:\n",
        "num_rows, num_cols = df.shape\n",
        "print(\"\\nAfter cleaning null ratings, there are\", num_rows ,\"rows and\", num_cols, \"columns\\n\")"
      ]
    },
    {
      "cell_type": "code",
      "execution_count": null,
      "metadata": {
        "colab": {
          "base_uri": "https://localhost:8080/"
        },
        "id": "fTFgZ66Ql_rH",
        "outputId": "b6f4d4bb-fb8f-45dd-a1c4-5554d1d7ab0b",
        "vscode": {
          "languageId": "python"
        }
      },
      "outputs": [
        {
          "data": {
            "text/plain": [
              "id                          int64\n",
              "host_response_time         object\n",
              "host_response_rate         object\n",
              "host_acceptance_rate       object\n",
              "host_is_superhost          object\n",
              "neighbourhood_cleansed     object\n",
              "property_type              object\n",
              "room_type                  object\n",
              "bathrooms_text             object\n",
              "bedrooms                  float64\n",
              "beds                      float64\n",
              "amenities                  object\n",
              "price                      object\n",
              "review_scores_rating      float64\n",
              "dtype: object"
            ]
          },
          "execution_count": 69,
          "metadata": {},
          "output_type": "execute_result"
        }
      ],
      "source": [
        "# Cell 2.1\n",
        "\n",
        "# The datatypes of the columns are as follows:\n",
        "df.dtypes"
      ]
    },
    {
      "cell_type": "markdown",
      "metadata": {
        "id": "XKmeEemuvKln"
      },
      "source": [
        "We will take a look at the distribution of ratings."
      ]
    },
    {
      "cell_type": "code",
      "execution_count": null,
      "metadata": {
        "colab": {
          "base_uri": "https://localhost:8080/",
          "height": 497
        },
        "id": "PUwtURGnl_rI",
        "outputId": "6838a5f0-4841-49dc-9de7-935db54e88ca",
        "vscode": {
          "languageId": "python"
        }
      },
      "outputs": [
        {
          "data": {
            "image/png": "[encoded data removed]",
            "text/plain": [
              "<Figure size 1080x576 with 1 Axes>"
            ]
          },
          "metadata": {
            "needs_background": "light"
          },
          "output_type": "display_data"
        }
      ],
      "source": [
        "# Cell 2.2\n",
        "\n",
        "# Changing the size of the figure\n",
        "plt.figure(figsize=(15,8))\n",
        "\n",
        "# Bar chart of number of ratings vs ratings\n",
        "reviews_hist,bins,patches= plt.hist(df['review_scores_rating'],bins=50, log = True)\n",
        "\n",
        "# Set the x-axis label\n",
        "plt.xlabel('Ratings')\n",
        "\n",
        "# Set the y-axis label\n",
        "plt.ylabel('Number of reviews')\n",
        "\n",
        "\n",
        "# Setting the color of the each bar.\n",
        "r = 1.0\n",
        "g = 0.0\n",
        "b = 0.0\n",
        "color = (r,g,b)\n",
        "for bar in patches:\n",
        "  x, y = bar.get_xy()\n",
        "  w = bar.get_width()\n",
        "  bar.set_color(color)\n",
        "  bar.set_edgecolor('black')\n",
        "  bar.set_linewidth(2)\n",
        "  if x < 4.0:\n",
        "    g = g + 0.02499\n",
        "  else:\n",
        "    g = 1\n",
        "    if x < 4.5:\n",
        "      r = r - 0.05\n",
        "    else:\n",
        "      r = r - 0.14999\n",
        "  color = (r,g,b)\n",
        "\n",
        "\n",
        "\n",
        "# Show the plot\n",
        "plt.show()"
      ]
    },
    {
      "cell_type": "markdown",
      "metadata": {
        "id": "kvsnfce7vYea"
      },
      "source": [
        "Now we need to refactor same of the features and generate some new ones:\n",
        "\n",
        "\n",
        "* Prices are in a string format that contains \"$\" sign and \",\" as a seperator for thousands. We want them as doubles.\n",
        "\n",
        "\n"
      ]
    },
    {
      "cell_type": "code",
      "execution_count": null,
      "metadata": {
        "colab": {
          "base_uri": "https://localhost:8080/"
        },
        "id": "Qa6yxKADl_rI",
        "outputId": "93724787-6d41-43f5-fec6-13e2c2a8cc3c",
        "vscode": {
          "languageId": "python"
        }
      },
      "outputs": [
        {
          "data": {
            "text/plain": [
              "0    152.0\n",
              "1     75.0\n",
              "2    125.0\n",
              "3    189.0\n",
              "4    115.0\n",
              "Name: price, dtype: float64"
            ]
          },
          "execution_count": 71,
          "metadata": {},
          "output_type": "execute_result"
        }
      ],
      "source": [
        "# Cell 2.3\n",
        "\n",
        "def currency_check (row):\n",
        "  c = row['price']\n",
        "  if c.find('$') == 0:\n",
        "    return float(c.replace(',','')[1:])\n",
        "  else:\n",
        "    # We checked if there are any prices that are not in dollars\n",
        "    print(\"Currency not dolar\")\n",
        "    \n",
        "df['price'] = df.apply (lambda row: currency_check(row), axis=1)\n",
        "df['price'].head()"
      ]
    },
    {
      "cell_type": "markdown",
      "metadata": {
        "id": "0hYGilETwJox"
      },
      "source": [
        "\n",
        "\n",
        "*   We want to include some amenities to our examination. People enter the amenities themselves so there are lots of differently named amenities. Take a look at the amenities that are used more than 10,000 times.\n",
        "\n"
      ]
    },
    {
      "cell_type": "code",
      "execution_count": null,
      "metadata": {
        "colab": {
          "base_uri": "https://localhost:8080/"
        },
        "id": "rn62Z639l_rI",
        "outputId": "112384cc-b138-4a97-c066-ea587ff0efdd",
        "vscode": {
          "languageId": "python"
        }
      },
      "outputs": [],
      "source": [
        "# Cell 2.4\n",
        "\n",
        "dt = {}\n",
        "\n",
        "for row in df.amenities:\n",
        "  row = row[1:-1].split(',')\n",
        "  for i in row:\n",
        "    if i not in dt.keys():\n",
        "      dt[i] = 1\n",
        "    else:\n",
        "      dt[i] += 1\n",
        "\n",
        "cnt = 0\n",
        "for key in dt.keys():\n",
        "  if dt[key] > 10000:\n",
        "    print(key)\n",
        "    cnt += 1\n",
        "\n",
        "print(\"\\n\")\n",
        "\n",
        "# At the bottom, the amenities are sorted in decreasing order and printed.\n",
        "dt_sorted = sorted(dt.items(), key=lambda x:x[1], reverse = True)\n",
        "\n",
        "# The number of amenities that have count larger than 10000 \n",
        "print(cnt)\n",
        "\n",
        "# After analyzing the amenities with high counts, we came up with 5 different amenities that might have more considerable impact than the other amenities. These amenities are:\n",
        "# Wifi, Kitchen, TV, Air Conditioning, Parking\n"
      ]
    },
    {
      "cell_type": "markdown",
      "metadata": {
        "id": "OwElgbCVw__l"
      },
      "source": [
        "\n",
        "\n",
        "*   We choose 5 of them which we are curious to see their relevancy with ratings.\n",
        "\n"
      ]
    },
    {
      "cell_type": "code",
      "execution_count": null,
      "metadata": {
        "colab": {
          "base_uri": "https://localhost:8080/",
          "height": 600
        },
        "id": "-BSDzItJl_rL",
        "outputId": "655fd2ac-4848-49f1-9e57-0727649053f3",
        "vscode": {
          "languageId": "python"
        }
      },
      "outputs": [
        {
          "data": {
            "text/html": [
              "\n",
              "  <div id=\"df-60783573-b561-4c25-9432-926235a35623\">\n",
              "    <div class=\"colab-df-container\">\n",
              "      <div>\n",
              "<style scoped>\n",
              "    .dataframe tbody tr th:only-of-type {\n",
              "        vertical-align: middle;\n",
              "    }\n",
              "\n",
              "    .dataframe tbody tr th {\n",
              "        vertical-align: top;\n",
              "    }\n",
              "\n",
              "    .dataframe thead th {\n",
              "        text-align: right;\n",
              "    }\n",
              "</style>\n",
              "<table border=\"1\" class=\"dataframe\">\n",
              "  <thead>\n",
              "    <tr style=\"text-align: right;\">\n",
              "      <th></th>\n",
              "      <th>id</th>\n",
              "      <th>host_response_time</th>\n",
              "      <th>host_response_rate</th>\n",
              "      <th>host_acceptance_rate</th>\n",
              "      <th>host_is_superhost</th>\n",
              "      <th>neighbourhood_cleansed</th>\n",
              "      <th>property_type</th>\n",
              "      <th>room_type</th>\n",
              "      <th>bathrooms_text</th>\n",
              "      <th>bedrooms</th>\n",
              "      <th>beds</th>\n",
              "      <th>amenities</th>\n",
              "      <th>price</th>\n",
              "      <th>review_scores_rating</th>\n",
              "      <th>wifiBool</th>\n",
              "      <th>tvBool</th>\n",
              "      <th>airConditioningBool</th>\n",
              "      <th>parkingBool</th>\n",
              "      <th>kitchenBool</th>\n",
              "    </tr>\n",
              "  </thead>\n",
              "  <tbody>\n",
              "    <tr>\n",
              "      <th>0</th>\n",
              "      <td>183319</td>\n",
              "      <td>within a day</td>\n",
              "      <td>100%</td>\n",
              "      <td>100%</td>\n",
              "      <td>f</td>\n",
              "      <td>Venice</td>\n",
              "      <td>Entire rental unit</td>\n",
              "      <td>Entire home/apt</td>\n",
              "      <td>1 bath</td>\n",
              "      <td>2.0</td>\n",
              "      <td>2.0</td>\n",
              "      <td>[\"Bed linens\", \"Heating\", \"Dishes and silverwa...</td>\n",
              "      <td>152.0</td>\n",
              "      <td>5.00</td>\n",
              "      <td>True</td>\n",
              "      <td>True</td>\n",
              "      <td>False</td>\n",
              "      <td>True</td>\n",
              "      <td>True</td>\n",
              "    </tr>\n",
              "    <tr>\n",
              "      <th>1</th>\n",
              "      <td>51307</td>\n",
              "      <td>NaN</td>\n",
              "      <td>NaN</td>\n",
              "      <td>NaN</td>\n",
              "      <td>f</td>\n",
              "      <td>Atwater Village</td>\n",
              "      <td>Entire bungalow</td>\n",
              "      <td>Entire home/apt</td>\n",
              "      <td>1 bath</td>\n",
              "      <td>1.0</td>\n",
              "      <td>1.0</td>\n",
              "      <td>[\"Air conditioning\", \"Bed linens\", \"Carbon mon...</td>\n",
              "      <td>75.0</td>\n",
              "      <td>4.64</td>\n",
              "      <td>False</td>\n",
              "      <td>True</td>\n",
              "      <td>True</td>\n",
              "      <td>True</td>\n",
              "      <td>True</td>\n",
              "    </tr>\n",
              "    <tr>\n",
              "      <th>2</th>\n",
              "      <td>184314</td>\n",
              "      <td>NaN</td>\n",
              "      <td>NaN</td>\n",
              "      <td>NaN</td>\n",
              "      <td>f</td>\n",
              "      <td>Venice</td>\n",
              "      <td>Entire rental unit</td>\n",
              "      <td>Entire home/apt</td>\n",
              "      <td>1 bath</td>\n",
              "      <td>1.0</td>\n",
              "      <td>1.0</td>\n",
              "      <td>[\"Hangers\", \"Dryer\", \"Smoke alarm\", \"Kitchen\",...</td>\n",
              "      <td>125.0</td>\n",
              "      <td>4.88</td>\n",
              "      <td>True</td>\n",
              "      <td>False</td>\n",
              "      <td>False</td>\n",
              "      <td>True</td>\n",
              "      <td>True</td>\n",
              "    </tr>\n",
              "    <tr>\n",
              "      <th>3</th>\n",
              "      <td>51498</td>\n",
              "      <td>within an hour</td>\n",
              "      <td>100%</td>\n",
              "      <td>88%</td>\n",
              "      <td>f</td>\n",
              "      <td>Mar Vista</td>\n",
              "      <td>Entire guesthouse</td>\n",
              "      <td>Entire home/apt</td>\n",
              "      <td>1 bath</td>\n",
              "      <td>NaN</td>\n",
              "      <td>1.0</td>\n",
              "      <td>[\"Toaster\", \"Cable TV\", \"Air conditioning\", \"B...</td>\n",
              "      <td>189.0</td>\n",
              "      <td>4.73</td>\n",
              "      <td>True</td>\n",
              "      <td>False</td>\n",
              "      <td>True</td>\n",
              "      <td>True</td>\n",
              "      <td>True</td>\n",
              "    </tr>\n",
              "    <tr>\n",
              "      <th>4</th>\n",
              "      <td>109</td>\n",
              "      <td>NaN</td>\n",
              "      <td>NaN</td>\n",
              "      <td>NaN</td>\n",
              "      <td>f</td>\n",
              "      <td>Culver City</td>\n",
              "      <td>Entire condo</td>\n",
              "      <td>Entire home/apt</td>\n",
              "      <td>2 baths</td>\n",
              "      <td>2.0</td>\n",
              "      <td>3.0</td>\n",
              "      <td>[\"Cable TV\", \"Air conditioning\", \"Carbon monox...</td>\n",
              "      <td>115.0</td>\n",
              "      <td>4.00</td>\n",
              "      <td>True</td>\n",
              "      <td>False</td>\n",
              "      <td>True</td>\n",
              "      <td>True</td>\n",
              "      <td>True</td>\n",
              "    </tr>\n",
              "  </tbody>\n",
              "</table>\n",
              "</div>\n",
              "      <button class=\"colab-df-convert\" onclick=\"convertToInteractive('df-60783573-b561-4c25-9432-926235a35623')\"\n",
              "              title=\"Convert this dataframe to an interactive table.\"\n",
              "              style=\"display:none;\">\n",
              "        \n",
              "  <svg xmlns=\"http://www.w3.org/2000/svg\" height=\"24px\"viewBox=\"0 0 24 24\"\n",
              "       width=\"24px\">\n",
              "    <path d=\"M0 0h24v24H0V0z\" fill=\"none\"/>\n",
              "    <path d=\"M18.56 5.44l.94 2.06.94-2.06 2.06-.94-2.06-.94-.94-2.06-.94 2.06-2.06.94zm-11 1L8.5 8.5l.94-2.06 2.06-.94-2.06-.94L8.5 2.5l-.94 2.06-2.06.94zm10 10l.94 2.06.94-2.06 2.06-.94-2.06-.94-.94-2.06-.94 2.06-2.06.94z\"/><path d=\"M17.41 7.96l-1.37-1.37c-.4-.4-.92-.59-1.43-.59-.52 0-1.04.2-1.43.59L10.3 9.45l-7.72 7.72c-.78.78-.78 2.05 0 2.83L4 21.41c.39.39.9.59 1.41.59.51 0 1.02-.2 1.41-.59l7.78-7.78 2.81-2.81c.8-.78.8-2.07 0-2.86zM5.41 20L4 18.59l7.72-7.72 1.47 1.35L5.41 20z\"/>\n",
              "  </svg>\n",
              "      </button>\n",
              "      \n",
              "  <style>\n",
              "    .colab-df-container {\n",
              "      display:flex;\n",
              "      flex-wrap:wrap;\n",
              "      gap: 12px;\n",
              "    }\n",
              "\n",
              "    .colab-df-convert {\n",
              "      background-color: #E8F0FE;\n",
              "      border: none;\n",
              "      border-radius: 50%;\n",
              "      cursor: pointer;\n",
              "      display: none;\n",
              "      fill: #1967D2;\n",
              "      height: 32px;\n",
              "      padding: 0 0 0 0;\n",
              "      width: 32px;\n",
              "    }\n",
              "\n",
              "    .colab-df-convert:hover {\n",
              "      background-color: #E2EBFA;\n",
              "      box-shadow: 0px 1px 2px rgba(60, 64, 67, 0.3), 0px 1px 3px 1px rgba(60, 64, 67, 0.15);\n",
              "      fill: #174EA6;\n",
              "    }\n",
              "\n",
              "    [theme=dark] .colab-df-convert {\n",
              "      background-color: #3B4455;\n",
              "      fill: #D2E3FC;\n",
              "    }\n",
              "\n",
              "    [theme=dark] .colab-df-convert:hover {\n",
              "      background-color: #434B5C;\n",
              "      box-shadow: 0px 1px 3px 1px rgba(0, 0, 0, 0.15);\n",
              "      filter: drop-shadow(0px 1px 2px rgba(0, 0, 0, 0.3));\n",
              "      fill: #FFFFFF;\n",
              "    }\n",
              "  </style>\n",
              "\n",
              "      <script>\n",
              "        const buttonEl =\n",
              "          document.querySelector('#df-60783573-b561-4c25-9432-926235a35623 button.colab-df-convert');\n",
              "        buttonEl.style.display =\n",
              "          google.colab.kernel.accessAllowed ? 'block' : 'none';\n",
              "\n",
              "        async function convertToInteractive(key) {\n",
              "          const element = document.querySelector('#df-60783573-b561-4c25-9432-926235a35623');\n",
              "          const dataTable =\n",
              "            await google.colab.kernel.invokeFunction('convertToInteractive',\n",
              "                                                     [key], {});\n",
              "          if (!dataTable) return;\n",
              "\n",
              "          const docLinkHtml = 'Like what you see? Visit the ' +\n",
              "            '<a target=\"_blank\" href=https://colab.research.google.com/notebooks/data_table.ipynb>data table notebook</a>'\n",
              "            + ' to learn more about interactive tables.';\n",
              "          element.innerHTML = '';\n",
              "          dataTable['output_type'] = 'display_data';\n",
              "          await google.colab.output.renderOutput(dataTable, element);\n",
              "          const docLink = document.createElement('div');\n",
              "          docLink.innerHTML = docLinkHtml;\n",
              "          element.appendChild(docLink);\n",
              "        }\n",
              "      </script>\n",
              "    </div>\n",
              "  </div>\n",
              "  "
            ],
            "text/plain": [
              "       id host_response_time host_response_rate host_acceptance_rate  \\\n",
              "0  183319       within a day               100%                 100%   \n",
              "1   51307                NaN                NaN                  NaN   \n",
              "2  184314                NaN                NaN                  NaN   \n",
              "3   51498     within an hour               100%                  88%   \n",
              "4     109                NaN                NaN                  NaN   \n",
              "\n",
              "  host_is_superhost neighbourhood_cleansed       property_type  \\\n",
              "0                 f                 Venice  Entire rental unit   \n",
              "1                 f        Atwater Village     Entire bungalow   \n",
              "2                 f                 Venice  Entire rental unit   \n",
              "3                 f              Mar Vista   Entire guesthouse   \n",
              "4                 f            Culver City        Entire condo   \n",
              "\n",
              "         room_type bathrooms_text  bedrooms  beds  \\\n",
              "0  Entire home/apt         1 bath       2.0   2.0   \n",
              "1  Entire home/apt         1 bath       1.0   1.0   \n",
              "2  Entire home/apt         1 bath       1.0   1.0   \n",
              "3  Entire home/apt         1 bath       NaN   1.0   \n",
              "4  Entire home/apt        2 baths       2.0   3.0   \n",
              "\n",
              "                                           amenities  price  \\\n",
              "0  [\"Bed linens\", \"Heating\", \"Dishes and silverwa...  152.0   \n",
              "1  [\"Air conditioning\", \"Bed linens\", \"Carbon mon...   75.0   \n",
              "2  [\"Hangers\", \"Dryer\", \"Smoke alarm\", \"Kitchen\",...  125.0   \n",
              "3  [\"Toaster\", \"Cable TV\", \"Air conditioning\", \"B...  189.0   \n",
              "4  [\"Cable TV\", \"Air conditioning\", \"Carbon monox...  115.0   \n",
              "\n",
              "   review_scores_rating  wifiBool  tvBool  airConditioningBool  parkingBool  \\\n",
              "0                  5.00      True    True                False         True   \n",
              "1                  4.64     False    True                 True         True   \n",
              "2                  4.88      True   False                False         True   \n",
              "3                  4.73      True   False                 True         True   \n",
              "4                  4.00      True   False                 True         True   \n",
              "\n",
              "   kitchenBool  \n",
              "0         True  \n",
              "1         True  \n",
              "2         True  \n",
              "3         True  \n",
              "4         True  "
            ]
          },
          "execution_count": 73,
          "metadata": {},
          "output_type": "execute_result"
        }
      ],
      "source": [
        " # Cell 3.1\n",
        " \n",
        " # Wifi, Kitchen, TV, Air Conditioning, Parking\n",
        " \n",
        " # At this cell, we created 5 new columns for each of our parameter and checked each row whether they contain our amenities in their amenities list.\n",
        " # If they had the parameters, we appended \"True\" value in their respective columns, otherwise we put \"False\". \n",
        "\n",
        "Wifi = []\n",
        "TV = []\n",
        "AirCondition = []\n",
        "Parking = []\n",
        "Kitchen = []\n",
        "for row in df.amenities:\n",
        "\n",
        "  row = row[1:-1].split(', ')  \n",
        "\n",
        "  if '\"Wifi\"' in row:\n",
        "    Wifi.append(True)\n",
        "  else:\n",
        "    Wifi.append(False)\n",
        "  \n",
        "  if '\"Air conditioning\"' in row:\n",
        "    AirCondition.append(True)\n",
        "  else:\n",
        "    AirCondition.append(False)\n",
        "  \n",
        "  if '\"Kitchen\"' in row:\n",
        "    Kitchen.append(True)\n",
        "  else:\n",
        "    Kitchen.append(False)\n",
        "  \n",
        "  if '\"TV\"' in row:\n",
        "    TV.append(True)\n",
        "  else:\n",
        "    TV.append(False)\n",
        "  \n",
        "  if '\"Free parking on premises\"' in row:\n",
        "    Parking.append(True)\n",
        "  else:\n",
        "    if '\"Free street parking\"' in row:\n",
        "      Parking.append(True)\n",
        "    else:\n",
        "      Parking.append(False)\n",
        "\n",
        "df[\"wifiBool\"] = Wifi\n",
        "df[\"tvBool\"] = TV\n",
        "df[\"airConditioningBool\"] = AirCondition\n",
        "df[\"parkingBool\"] = Parking\n",
        "df[\"kitchenBool\"] = Kitchen\n",
        "\n",
        "\n",
        "df.head(5)\n"
      ]
    },
    {
      "cell_type": "markdown",
      "metadata": {
        "id": "SFjVq9QmHkQ2"
      },
      "source": [
        "*   We visualized the distribution of amenities' values ​​with bar chart.  "
      ]
    },
    {
      "cell_type": "code",
      "execution_count": null,
      "metadata": {
        "colab": {
          "base_uri": "https://localhost:8080/",
          "height": 334
        },
        "id": "mbdjLzYERZXp",
        "outputId": "dc3c93e5-99ef-4654-82d2-b0cb7cc0aa29",
        "vscode": {
          "languageId": "python"
        }
      },
      "outputs": [
        {
          "data": {
            "image/png": "[encoded data removed]",
            "text/plain": [
              "<Figure size 1584x360 with 5 Axes>"
            ]
          },
          "metadata": {
            "needs_background": "light"
          },
          "output_type": "display_data"
        }
      ],
      "source": [
        "wifi_counts = df['wifiBool'].value_counts()\n",
        "tv_counts = df['tvBool'].value_counts()\n",
        "air_conditioning_counts = df['airConditioningBool'].value_counts()\n",
        "parking_counts = df['parkingBool'].value_counts()\n",
        "kitchen_counts = df['kitchenBool'].value_counts()\n",
        "\n",
        "fig, axs = plt.subplots(1, 5, figsize=(22, 5))\n",
        "axs[0].bar([1, 0], wifi_counts.values, color=['green','red'])\n",
        "axs[1].bar([1, 0], tv_counts.values, color=['green','red'])\n",
        "axs[2].bar([1, 0], air_conditioning_counts.values, color=['green','red'])\n",
        "axs[3].bar([1, 0], parking_counts.values, color=['green','red'])\n",
        "axs[4].bar([1, 0], kitchen_counts.values, color=['green','red'])\n",
        "\n",
        "axs[0].set_xlabel('wifiBool')\n",
        "axs[1].set_xlabel('tvBool')\n",
        "axs[2].set_xlabel('airConditioningBool')\n",
        "axs[3].set_xlabel('parkingBool')\n",
        "axs[4].set_xlabel('kitchenBool')\n",
        "\n",
        "# Adding legend to graphs\n",
        "colors = {'True':'green', 'False':'red'}         \n",
        "labels = list(colors.keys())\n",
        "handles = [plt.Rectangle((0,0),1,1, color=colors[label]) for label in labels]\n",
        "for i in range(5):\n",
        "  axs[i].legend(handles, labels,frameon=False)\n",
        "\n",
        "plt.show()"
      ]
    },
    {
      "cell_type": "markdown",
      "metadata": {
        "id": "nrlss4fBxQ4i"
      },
      "source": [
        "\n",
        "\n",
        "*   Number and the privacy situatuon of the bathrooms were given as one string, we seperated the number and the info of if the bathroom is shared to two columns.\n",
        "\n"
      ]
    },
    {
      "cell_type": "code",
      "execution_count": null,
      "metadata": {
        "colab": {
          "base_uri": "https://localhost:8080/"
        },
        "id": "mcv-eQKOl_rJ",
        "outputId": "94927f93-d2aa-4827-c319-e481dbb85986",
        "vscode": {
          "languageId": "python"
        }
      },
      "outputs": [
        {
          "name": "stdout",
          "output_type": "stream",
          "text": [
            "183319 1 False\n",
            "51307 1 False\n",
            "184314 1 False\n",
            "51498 1 False\n",
            "109 2 False\n",
            "185536 1 True\n",
            "2708 1 True\n",
            "51546 1 False\n",
            "185557 1 True\n",
            "2732 1 False\n"
          ]
        }
      ],
      "source": [
        " # Cell 3.2\n",
        " \n",
        "isBathShared = []\n",
        "bathNumber = []\n",
        "for row in range(df.shape[0]):\n",
        "  bathText = df.iloc[row][\"bathrooms_text\"]\n",
        "  bathInfo = str(bathText).split(\" \")\n",
        "\n",
        "  if \"shared\" in bathInfo:\n",
        "    isBathShared.append(True)\n",
        "  else:\n",
        "    isBathShared.append(False)\n",
        "\n",
        "  bathNumber.append(bathInfo[0])\n",
        "\n",
        "df[\"isBathShared\"] = isBathShared\n",
        "df[\"bathNumber\"] = bathNumber\n",
        "df.drop(\"bathrooms_text\", axis=1, inplace=True)\n",
        "\n",
        "for row in range(10):\n",
        "  print(df.iloc[row][\"id\"], df.iloc[row][\"bathNumber\"], df.iloc[row][\"isBathShared\"])"
      ]
    },
    {
      "cell_type": "markdown",
      "metadata": {
        "id": "v5JlJpFkHpZV"
      },
      "source": [
        "*   We created separate columns for room types and added them to the dataset.\n",
        "\n"
      ]
    },
    {
      "cell_type": "code",
      "execution_count": null,
      "metadata": {
        "colab": {
          "base_uri": "https://localhost:8080/",
          "height": 501
        },
        "id": "Yn2otVmPtfor",
        "outputId": "a8e0c6ad-5449-4508-d36f-816030e57ac8",
        "vscode": {
          "languageId": "python"
        }
      },
      "outputs": [
        {
          "data": {
            "text/html": [
              "\n",
              "  <div id=\"df-428c3437-42eb-4282-9772-843f3dcfdd99\">\n",
              "    <div class=\"colab-df-container\">\n",
              "      <div>\n",
              "<style scoped>\n",
              "    .dataframe tbody tr th:only-of-type {\n",
              "        vertical-align: middle;\n",
              "    }\n",
              "\n",
              "    .dataframe tbody tr th {\n",
              "        vertical-align: top;\n",
              "    }\n",
              "\n",
              "    .dataframe thead th {\n",
              "        text-align: right;\n",
              "    }\n",
              "</style>\n",
              "<table border=\"1\" class=\"dataframe\">\n",
              "  <thead>\n",
              "    <tr style=\"text-align: right;\">\n",
              "      <th></th>\n",
              "      <th>id</th>\n",
              "      <th>host_response_time</th>\n",
              "      <th>host_response_rate</th>\n",
              "      <th>host_acceptance_rate</th>\n",
              "      <th>host_is_superhost</th>\n",
              "      <th>neighbourhood_cleansed</th>\n",
              "      <th>property_type</th>\n",
              "      <th>room_type</th>\n",
              "      <th>bedrooms</th>\n",
              "      <th>beds</th>\n",
              "      <th>...</th>\n",
              "      <th>tvBool</th>\n",
              "      <th>airConditioningBool</th>\n",
              "      <th>parkingBool</th>\n",
              "      <th>kitchenBool</th>\n",
              "      <th>isBathShared</th>\n",
              "      <th>bathNumber</th>\n",
              "      <th>Entire home/apt</th>\n",
              "      <th>Private room</th>\n",
              "      <th>Hotel room</th>\n",
              "      <th>Shared room</th>\n",
              "    </tr>\n",
              "  </thead>\n",
              "  <tbody>\n",
              "    <tr>\n",
              "      <th>0</th>\n",
              "      <td>183319</td>\n",
              "      <td>within a day</td>\n",
              "      <td>100%</td>\n",
              "      <td>100%</td>\n",
              "      <td>f</td>\n",
              "      <td>Venice</td>\n",
              "      <td>Entire rental unit</td>\n",
              "      <td>Entire home/apt</td>\n",
              "      <td>2.0</td>\n",
              "      <td>2.0</td>\n",
              "      <td>...</td>\n",
              "      <td>True</td>\n",
              "      <td>False</td>\n",
              "      <td>True</td>\n",
              "      <td>True</td>\n",
              "      <td>False</td>\n",
              "      <td>1</td>\n",
              "      <td>1</td>\n",
              "      <td>0</td>\n",
              "      <td>0</td>\n",
              "      <td>0</td>\n",
              "    </tr>\n",
              "    <tr>\n",
              "      <th>1</th>\n",
              "      <td>51307</td>\n",
              "      <td>NaN</td>\n",
              "      <td>NaN</td>\n",
              "      <td>NaN</td>\n",
              "      <td>f</td>\n",
              "      <td>Atwater Village</td>\n",
              "      <td>Entire bungalow</td>\n",
              "      <td>Entire home/apt</td>\n",
              "      <td>1.0</td>\n",
              "      <td>1.0</td>\n",
              "      <td>...</td>\n",
              "      <td>True</td>\n",
              "      <td>True</td>\n",
              "      <td>True</td>\n",
              "      <td>True</td>\n",
              "      <td>False</td>\n",
              "      <td>1</td>\n",
              "      <td>1</td>\n",
              "      <td>0</td>\n",
              "      <td>0</td>\n",
              "      <td>0</td>\n",
              "    </tr>\n",
              "    <tr>\n",
              "      <th>2</th>\n",
              "      <td>184314</td>\n",
              "      <td>NaN</td>\n",
              "      <td>NaN</td>\n",
              "      <td>NaN</td>\n",
              "      <td>f</td>\n",
              "      <td>Venice</td>\n",
              "      <td>Entire rental unit</td>\n",
              "      <td>Entire home/apt</td>\n",
              "      <td>1.0</td>\n",
              "      <td>1.0</td>\n",
              "      <td>...</td>\n",
              "      <td>False</td>\n",
              "      <td>False</td>\n",
              "      <td>True</td>\n",
              "      <td>True</td>\n",
              "      <td>False</td>\n",
              "      <td>1</td>\n",
              "      <td>1</td>\n",
              "      <td>0</td>\n",
              "      <td>0</td>\n",
              "      <td>0</td>\n",
              "    </tr>\n",
              "    <tr>\n",
              "      <th>3</th>\n",
              "      <td>51498</td>\n",
              "      <td>within an hour</td>\n",
              "      <td>100%</td>\n",
              "      <td>88%</td>\n",
              "      <td>f</td>\n",
              "      <td>Mar Vista</td>\n",
              "      <td>Entire guesthouse</td>\n",
              "      <td>Entire home/apt</td>\n",
              "      <td>NaN</td>\n",
              "      <td>1.0</td>\n",
              "      <td>...</td>\n",
              "      <td>False</td>\n",
              "      <td>True</td>\n",
              "      <td>True</td>\n",
              "      <td>True</td>\n",
              "      <td>False</td>\n",
              "      <td>1</td>\n",
              "      <td>1</td>\n",
              "      <td>0</td>\n",
              "      <td>0</td>\n",
              "      <td>0</td>\n",
              "    </tr>\n",
              "    <tr>\n",
              "      <th>4</th>\n",
              "      <td>109</td>\n",
              "      <td>NaN</td>\n",
              "      <td>NaN</td>\n",
              "      <td>NaN</td>\n",
              "      <td>f</td>\n",
              "      <td>Culver City</td>\n",
              "      <td>Entire condo</td>\n",
              "      <td>Entire home/apt</td>\n",
              "      <td>2.0</td>\n",
              "      <td>3.0</td>\n",
              "      <td>...</td>\n",
              "      <td>False</td>\n",
              "      <td>True</td>\n",
              "      <td>True</td>\n",
              "      <td>True</td>\n",
              "      <td>False</td>\n",
              "      <td>2</td>\n",
              "      <td>1</td>\n",
              "      <td>0</td>\n",
              "      <td>0</td>\n",
              "      <td>0</td>\n",
              "    </tr>\n",
              "    <tr>\n",
              "      <th>5</th>\n",
              "      <td>185536</td>\n",
              "      <td>within a few hours</td>\n",
              "      <td>100%</td>\n",
              "      <td>80%</td>\n",
              "      <td>f</td>\n",
              "      <td>Westchester</td>\n",
              "      <td>Private room in home</td>\n",
              "      <td>Private room</td>\n",
              "      <td>1.0</td>\n",
              "      <td>1.0</td>\n",
              "      <td>...</td>\n",
              "      <td>False</td>\n",
              "      <td>False</td>\n",
              "      <td>True</td>\n",
              "      <td>True</td>\n",
              "      <td>True</td>\n",
              "      <td>1</td>\n",
              "      <td>0</td>\n",
              "      <td>1</td>\n",
              "      <td>0</td>\n",
              "      <td>0</td>\n",
              "    </tr>\n",
              "    <tr>\n",
              "      <th>6</th>\n",
              "      <td>2708</td>\n",
              "      <td>within an hour</td>\n",
              "      <td>100%</td>\n",
              "      <td>100%</td>\n",
              "      <td>t</td>\n",
              "      <td>Hollywood</td>\n",
              "      <td>Private room in rental unit</td>\n",
              "      <td>Private room</td>\n",
              "      <td>1.0</td>\n",
              "      <td>1.0</td>\n",
              "      <td>...</td>\n",
              "      <td>False</td>\n",
              "      <td>False</td>\n",
              "      <td>True</td>\n",
              "      <td>True</td>\n",
              "      <td>True</td>\n",
              "      <td>1</td>\n",
              "      <td>0</td>\n",
              "      <td>1</td>\n",
              "      <td>0</td>\n",
              "      <td>0</td>\n",
              "    </tr>\n",
              "  </tbody>\n",
              "</table>\n",
              "<p>7 rows × 24 columns</p>\n",
              "</div>\n",
              "      <button class=\"colab-df-convert\" onclick=\"convertToInteractive('df-428c3437-42eb-4282-9772-843f3dcfdd99')\"\n",
              "              title=\"Convert this dataframe to an interactive table.\"\n",
              "              style=\"display:none;\">\n",
              "        \n",
              "  <svg xmlns=\"http://www.w3.org/2000/svg\" height=\"24px\"viewBox=\"0 0 24 24\"\n",
              "       width=\"24px\">\n",
              "    <path d=\"M0 0h24v24H0V0z\" fill=\"none\"/>\n",
              "    <path d=\"M18.56 5.44l.94 2.06.94-2.06 2.06-.94-2.06-.94-.94-2.06-.94 2.06-2.06.94zm-11 1L8.5 8.5l.94-2.06 2.06-.94-2.06-.94L8.5 2.5l-.94 2.06-2.06.94zm10 10l.94 2.06.94-2.06 2.06-.94-2.06-.94-.94-2.06-.94 2.06-2.06.94z\"/><path d=\"M17.41 7.96l-1.37-1.37c-.4-.4-.92-.59-1.43-.59-.52 0-1.04.2-1.43.59L10.3 9.45l-7.72 7.72c-.78.78-.78 2.05 0 2.83L4 21.41c.39.39.9.59 1.41.59.51 0 1.02-.2 1.41-.59l7.78-7.78 2.81-2.81c.8-.78.8-2.07 0-2.86zM5.41 20L4 18.59l7.72-7.72 1.47 1.35L5.41 20z\"/>\n",
              "  </svg>\n",
              "      </button>\n",
              "      \n",
              "  <style>\n",
              "    .colab-df-container {\n",
              "      display:flex;\n",
              "      flex-wrap:wrap;\n",
              "      gap: 12px;\n",
              "    }\n",
              "\n",
              "    .colab-df-convert {\n",
              "      background-color: #E8F0FE;\n",
              "      border: none;\n",
              "      border-radius: 50%;\n",
              "      cursor: pointer;\n",
              "      display: none;\n",
              "      fill: #1967D2;\n",
              "      height: 32px;\n",
              "      padding: 0 0 0 0;\n",
              "      width: 32px;\n",
              "    }\n",
              "\n",
              "    .colab-df-convert:hover {\n",
              "      background-color: #E2EBFA;\n",
              "      box-shadow: 0px 1px 2px rgba(60, 64, 67, 0.3), 0px 1px 3px 1px rgba(60, 64, 67, 0.15);\n",
              "      fill: #174EA6;\n",
              "    }\n",
              "\n",
              "    [theme=dark] .colab-df-convert {\n",
              "      background-color: #3B4455;\n",
              "      fill: #D2E3FC;\n",
              "    }\n",
              "\n",
              "    [theme=dark] .colab-df-convert:hover {\n",
              "      background-color: #434B5C;\n",
              "      box-shadow: 0px 1px 3px 1px rgba(0, 0, 0, 0.15);\n",
              "      filter: drop-shadow(0px 1px 2px rgba(0, 0, 0, 0.3));\n",
              "      fill: #FFFFFF;\n",
              "    }\n",
              "  </style>\n",
              "\n",
              "      <script>\n",
              "        const buttonEl =\n",
              "          document.querySelector('#df-428c3437-42eb-4282-9772-843f3dcfdd99 button.colab-df-convert');\n",
              "        buttonEl.style.display =\n",
              "          google.colab.kernel.accessAllowed ? 'block' : 'none';\n",
              "\n",
              "        async function convertToInteractive(key) {\n",
              "          const element = document.querySelector('#df-428c3437-42eb-4282-9772-843f3dcfdd99');\n",
              "          const dataTable =\n",
              "            await google.colab.kernel.invokeFunction('convertToInteractive',\n",
              "                                                     [key], {});\n",
              "          if (!dataTable) return;\n",
              "\n",
              "          const docLinkHtml = 'Like what you see? Visit the ' +\n",
              "            '<a target=\"_blank\" href=https://colab.research.google.com/notebooks/data_table.ipynb>data table notebook</a>'\n",
              "            + ' to learn more about interactive tables.';\n",
              "          element.innerHTML = '';\n",
              "          dataTable['output_type'] = 'display_data';\n",
              "          await google.colab.output.renderOutput(dataTable, element);\n",
              "          const docLink = document.createElement('div');\n",
              "          docLink.innerHTML = docLinkHtml;\n",
              "          element.appendChild(docLink);\n",
              "        }\n",
              "      </script>\n",
              "    </div>\n",
              "  </div>\n",
              "  "
            ],
            "text/plain": [
              "       id  host_response_time host_response_rate host_acceptance_rate  \\\n",
              "0  183319        within a day               100%                 100%   \n",
              "1   51307                 NaN                NaN                  NaN   \n",
              "2  184314                 NaN                NaN                  NaN   \n",
              "3   51498      within an hour               100%                  88%   \n",
              "4     109                 NaN                NaN                  NaN   \n",
              "5  185536  within a few hours               100%                  80%   \n",
              "6    2708      within an hour               100%                 100%   \n",
              "\n",
              "  host_is_superhost neighbourhood_cleansed                property_type  \\\n",
              "0                 f                 Venice           Entire rental unit   \n",
              "1                 f        Atwater Village              Entire bungalow   \n",
              "2                 f                 Venice           Entire rental unit   \n",
              "3                 f              Mar Vista            Entire guesthouse   \n",
              "4                 f            Culver City                 Entire condo   \n",
              "5                 f            Westchester         Private room in home   \n",
              "6                 t              Hollywood  Private room in rental unit   \n",
              "\n",
              "         room_type  bedrooms  beds  ... tvBool  airConditioningBool  \\\n",
              "0  Entire home/apt       2.0   2.0  ...   True                False   \n",
              "1  Entire home/apt       1.0   1.0  ...   True                 True   \n",
              "2  Entire home/apt       1.0   1.0  ...  False                False   \n",
              "3  Entire home/apt       NaN   1.0  ...  False                 True   \n",
              "4  Entire home/apt       2.0   3.0  ...  False                 True   \n",
              "5     Private room       1.0   1.0  ...  False                False   \n",
              "6     Private room       1.0   1.0  ...  False                False   \n",
              "\n",
              "   parkingBool  kitchenBool  isBathShared  bathNumber  Entire home/apt  \\\n",
              "0         True         True         False           1                1   \n",
              "1         True         True         False           1                1   \n",
              "2         True         True         False           1                1   \n",
              "3         True         True         False           1                1   \n",
              "4         True         True         False           2                1   \n",
              "5         True         True          True           1                0   \n",
              "6         True         True          True           1                0   \n",
              "\n",
              "   Private room  Hotel room Shared room  \n",
              "0             0           0           0  \n",
              "1             0           0           0  \n",
              "2             0           0           0  \n",
              "3             0           0           0  \n",
              "4             0           0           0  \n",
              "5             1           0           0  \n",
              "6             1           0           0  \n",
              "\n",
              "[7 rows x 24 columns]"
            ]
          },
          "execution_count": 76,
          "metadata": {},
          "output_type": "execute_result"
        }
      ],
      "source": [
        "# create new columns initilize them to zero\n",
        "df['Entire home/apt'] = 0\n",
        "df['Private room'] = 0\n",
        "df['Hotel room'] = 0\n",
        "df['Shared room'] = 0\n",
        "\n",
        "# make values 1 accordingly\n",
        "df.loc[df['room_type'] == 'Entire home/apt', 'Entire home/apt'] = 1\n",
        "df.loc[df['room_type'] == 'Private room', 'Private room'] = 1\n",
        "df.loc[df['room_type'] == 'Hotel room', 'Hotel room'] = 1\n",
        "df.loc[df['room_type'] == 'Shared room', 'Shared room'] = 1\n",
        "\n",
        "df.head(7)"
      ]
    },
    {
      "cell_type": "markdown",
      "metadata": {
        "id": "fPi4S0X9aGwy"
      },
      "source": [
        "We plotted the correlation levels of each row with each other. At first glance it seems to be there is no strong correlation between any feature and rating scores. We will investigate the relationships as we progress. "
      ]
    },
    {
      "cell_type": "code",
      "execution_count": null,
      "metadata": {
        "colab": {
          "base_uri": "https://localhost:8080/",
          "height": 684
        },
        "id": "ru96bRj5rxTP",
        "outputId": "197b6ced-593f-4247-f8f7-da37f9b4251a",
        "vscode": {
          "languageId": "python"
        }
      },
      "outputs": [
        {
          "data": {
            "image/png": "[encoded data removed]",
            "text/plain": [
              "<Figure size 1080x720 with 2 Axes>"
            ]
          },
          "metadata": {
            "needs_background": "light"
          },
          "output_type": "display_data"
        }
      ],
      "source": [
        " # Cell 4.1\n",
        " \n",
        "\n",
        "# Set the figure size\n",
        "plt.figure(figsize=(15, 10))\n",
        "\n",
        "# Create a diverging color palette\n",
        "palette = sns.diverging_palette(10, 200, n=256)\n",
        "\n",
        "# Calculate the Pearson correlation of the DataFrame\n",
        "corr = df.corr(method='pearson')\n",
        "\n",
        "# Plot the heatmap\n",
        "sns.heatmap(corr, annot=True, fmt=\".3f\", cmap=palette, vmin=-0.3, vmax=0.3)\n",
        "\n",
        "# Rotate the x-axis tick labels\n",
        "plt.xticks(rotation=45, horizontalalignment = \"right\")\n",
        "\n",
        "# Set the title\n",
        "plt.title(\"Correlation Matrix\", size=20)\n",
        "\n",
        "# Show the plot\n",
        "plt.show()"
      ]
    },
    {
      "cell_type": "markdown",
      "metadata": {
        "id": "XkO9cm6lQI2N"
      },
      "source": [
        "**Our Null Hypoteshis is that elements will have no effect on overall ratings of listings. Our alternative hypothesis is that there is correlation between them. We will do the testings for different amenities.**\n",
        "\n",
        "Our confidence level is 95%."
      ]
    },
    {
      "cell_type": "markdown",
      "metadata": {
        "id": "hmAxHjuSL7KG"
      },
      "source": [
        "*   We calculated the variance of number of beds and excluded groups with variance 0 or with fewer than two data points from the ANOVA test. \n",
        "*   Then, with ANOVA test we printed the p-values and created a bar chart of the mean review scores for each group\n",
        "\n"
      ]
    },
    {
      "cell_type": "code",
      "execution_count": null,
      "metadata": {
        "colab": {
          "base_uri": "https://localhost:8080/",
          "height": 459
        },
        "id": "xE1prnfcI7I5",
        "outputId": "debba26e-0b8e-4c5d-f4ca-7df28f67eeeb",
        "vscode": {
          "languageId": "python"
        }
      },
      "outputs": [
        {
          "name": "stdout",
          "output_type": "stream",
          "text": [
            "P value is:  0.003990705577647338 \n",
            "\n",
            "Null hyp: number of beds do not affect review score\n",
            "We rejected the null hyp.\n"
          ]
        },
        {
          "data": {
            "image/png": "[encoded data removed]",
            "text/plain": [
              "<Figure size 864x432 with 1 Axes>"
            ]
          },
          "metadata": {
            "needs_background": "light"
          },
          "output_type": "display_data"
        }
      ],
      "source": [
        "from scipy.stats import f_oneway\n",
        "from statistics import variance\n",
        "import matplotlib.pyplot as plt\n",
        "\n",
        "test_list=[]\n",
        "for i in range(1,27):\n",
        "  test_list.append(df[df[\"beds\"] == i][\"review_scores_rating\"])\n",
        "\n",
        "# Create a list of groups with non-zero variance\n",
        "non_zero_var_groups = []\n",
        "for group in test_list:\n",
        "  if group.count() > 1 and variance(group.dropna()) > 0:\n",
        "    non_zero_var_groups.append(group)\n",
        "\n",
        "statistic, p_value = f_oneway(*non_zero_var_groups)\n",
        "\n",
        "print(\"P value is: \",p_value,\"\\n\")\n",
        "\n",
        "# Extract the review scores and the number of beds for each group\n",
        "review_scores = [group.tolist() for group in non_zero_var_groups]\n",
        "beds = [i+1 for i, group in enumerate(test_list) if group.count() > 1 and variance(group.dropna()) > 0]\n",
        "\n",
        "mean_review_scores = [sum(group)/len(group) for group in review_scores]\n",
        "\n",
        "# Create a bar chart of the mean review scores for each group\n",
        "plt.xticks(range(1,27))\n",
        "plt.bar(beds, mean_review_scores,color='purple',edgecolor='black',linewidth=2)\n",
        "plt.xlabel(\"Number of beds\")\n",
        "plt.ylabel(\"Mean review score\")\n",
        "\n",
        "plt.ylim(bottom=3)\n",
        "\n",
        "fig = plt.gcf()\n",
        "fig.set_size_inches(12, 6)\n",
        "\n",
        "print(\"Null hyp: number of beds do not affect review score\")\n",
        "if p_value < 0.05:\n",
        "  print(\"We rejected the null hyp.\")\n",
        "else:\n",
        "  print(\"We couldn't reject the null hyp.\")\n",
        "\n"
      ]
    },
    {
      "cell_type": "markdown",
      "metadata": {
        "id": "Bb7EbcRtMqHO"
      },
      "source": [
        "\n",
        "\n",
        "*   We did the same for bedrooms\n",
        "\n"
      ]
    },
    {
      "cell_type": "code",
      "execution_count": null,
      "metadata": {
        "colab": {
          "base_uri": "https://localhost:8080/",
          "height": 442
        },
        "id": "dtQigWAFJH4G",
        "outputId": "0748c690-1884-49a4-f83e-f2f07cbc2362",
        "vscode": {
          "languageId": "python"
        }
      },
      "outputs": [
        {
          "name": "stdout",
          "output_type": "stream",
          "text": [
            "0.00012114811052540141\n",
            "Null hyp: number of bedrooms do not affect review score\n",
            "We rejected the null hyp.\n"
          ]
        },
        {
          "data": {
            "image/png": "[encoded data removed]",
            "text/plain": [
              "<Figure size 864x432 with 1 Axes>"
            ]
          },
          "metadata": {
            "needs_background": "light"
          },
          "output_type": "display_data"
        }
      ],
      "source": [
        "test_list=[]\n",
        "for i in range(1,27):\n",
        "  test_list.append(df[df[\"bedrooms\"] == i][\"review_scores_rating\"])\n",
        "\n",
        "# Create a list of groups with non-zero variance\n",
        "non_zero_var_groups = []\n",
        "for group in test_list:\n",
        "  if group.count() > 1 and variance(group.dropna()) > 0:\n",
        "    non_zero_var_groups.append(group)\n",
        "\n",
        "# Perform ANOVA test on groups with non-zero variance\n",
        "statistic, p_value = f_oneway(*non_zero_var_groups)\n",
        "\n",
        "# Print the p-value\n",
        "print(p_value)\n",
        "\n",
        "# Extract the review scores for each group\n",
        "review_scores = [group.tolist() for group in non_zero_var_groups]\n",
        "\n",
        "# Extract the number of beds for each group\n",
        "beds = [i+1 for i, group in enumerate(test_list) if group.count() > 1 and variance(group.dropna()) > 0]\n",
        "\n",
        "# Compute the mean review score for each group\n",
        "mean_review_scores = [sum(group)/len(group) for group in review_scores]\n",
        "\n",
        "# Create a bar chart of the mean review scores for each group\n",
        "plt.xticks(range(1,27))\n",
        "plt.bar(beds, mean_review_scores,color='purple',edgecolor='black',linewidth=2)\n",
        "plt.xlabel(\"Number of bedrooms\")\n",
        "plt.ylabel(\"Mean review score\")\n",
        "\n",
        "fig = plt.gcf()\n",
        "fig.set_size_inches(12, 6)\n",
        "plt.ylim(bottom=4)\n",
        "\n",
        "print(\"Null hyp: number of bedrooms do not affect review score\")\n",
        "if p_value < 0.05:\n",
        "  print(\"We rejected the null hyp.\")\n",
        "else:\n",
        "  print(\"We couldn't reject the null hyp.\")\n"
      ]
    },
    {
      "cell_type": "markdown",
      "metadata": {
        "id": "hlfpfPfjOL7n"
      },
      "source": [
        "\n",
        "\n",
        "*   We used a box plot to show the relationship between room type and review score.\n",
        "\n"
      ]
    },
    {
      "cell_type": "code",
      "execution_count": null,
      "metadata": {
        "colab": {
          "base_uri": "https://localhost:8080/",
          "height": 280
        },
        "id": "b6r_h-uhUZbV",
        "outputId": "09ea0217-bf79-4925-dc0d-577fc982810e",
        "vscode": {
          "languageId": "python"
        }
      },
      "outputs": [
        {
          "data": {
            "image/png": "[encoded data removed]",
            "text/plain": [
              "<Figure size 432x288 with 1 Axes>"
            ]
          },
          "metadata": {
            "needs_background": "light"
          },
          "output_type": "display_data"
        }
      ],
      "source": [
        "room_types = df['room_type'].unique()\n",
        "\n",
        "sns.boxplot(x='review_scores_rating', y='room_type', data=df)\n",
        "plt.show()"
      ]
    },
    {
      "cell_type": "code",
      "execution_count": null,
      "metadata": {
        "colab": {
          "base_uri": "https://localhost:8080/"
        },
        "id": "9lMKsWEkcKaN",
        "outputId": "c6e6a548-5cb4-4384-bc6c-c66e681c5c30",
        "vscode": {
          "languageId": "python"
        }
      },
      "outputs": [
        {
          "name": "stdout",
          "output_type": "stream",
          "text": [
            "Z value for entire home/apt:  9.02898334880962\n",
            "P value for entire home/apt:  1.7327402957308477e-19\n",
            "\n",
            "Z value for private rooms:  -5.565549445682971\n",
            "P value for private rooms:  2.613276662647351e-08\n",
            "\n",
            "Z value for hotel room:  -5.440328748698672\n",
            "P value for hotel room:  5.318234052431564e-08\n",
            "\n",
            "Z value for shared rooms:  -7.762333983925359\n",
            "P value for shared rooms:  8.338048024527338e-15\n",
            "\n"
          ]
        }
      ],
      "source": [
        "from statsmodels.stats.weightstats import ztest\n",
        "from scipy.stats import norm\n",
        "\n",
        "def p_returner(df1,df2):\n",
        "  z = (df1.mean()-df2.mean())/np.sqrt(df1.std()**2/len(df1) + df2.std()**2/len(df2))\n",
        "  p = 2*norm.cdf(-abs(z))\n",
        "  return p,z\n",
        "\n",
        "entire_home_review_scores = df[df['room_type'] == 'Entire home/apt']['review_scores_rating']\n",
        "not_entire_home_review_scores = df[df['room_type'] != 'Entire home/apt']['review_scores_rating']\n",
        "print(\"Z value for entire home/apt: \", p_returner(entire_home_review_scores,not_entire_home_review_scores)[1])\n",
        "print(\"P value for entire home/apt: \", p_returner(entire_home_review_scores,not_entire_home_review_scores)[0])\n",
        "print()\n",
        "\n",
        "private_room_review_scores = df[df['room_type'] == 'Private room']['review_scores_rating']\n",
        "not_private_room_review_scores = df[df['room_type'] != 'Private room']['review_scores_rating']\n",
        "print(\"Z value for private rooms: \", p_returner(private_room_review_scores,not_private_room_review_scores)[1])\n",
        "print(\"P value for private rooms: \", p_returner(private_room_review_scores,not_private_room_review_scores)[0])\n",
        "print()\n",
        "\n",
        "hotel_room_review_scores = df[df['room_type'] == 'Hotel room']['review_scores_rating']\n",
        "not_hotel_room_review_scores = df[df['room_type'] != 'Hotel room']['review_scores_rating']\n",
        "print(\"Z value for hotel room: \", p_returner(hotel_room_review_scores,not_hotel_room_review_scores)[1])\n",
        "print(\"P value for hotel room: \", p_returner(hotel_room_review_scores,not_hotel_room_review_scores)[0])\n",
        "print()\n",
        "\n",
        "shared_room_review_scores = df[df['room_type'] == 'Shared room']['review_scores_rating']\n",
        "not_shared_room_review_scores = df[df['room_type'] != 'Shared room']['review_scores_rating']\n",
        "print(\"Z value for shared rooms: \", p_returner(shared_room_review_scores,not_shared_room_review_scores)[1])\n",
        "print(\"P value for shared rooms: \", p_returner(shared_room_review_scores,not_shared_room_review_scores)[0])\n",
        "print()\n"
      ]
    },
    {
      "cell_type": "code",
      "execution_count": null,
      "metadata": {
        "colab": {
          "base_uri": "https://localhost:8080/"
        },
        "id": "wfZoBwr5TPaQ",
        "outputId": "10b73bf9-b96f-4b44-977f-b784e073f600",
        "vscode": {
          "languageId": "python"
        }
      },
      "outputs": [
        {
          "name": "stdout",
          "output_type": "stream",
          "text": [
            "Z value for existence of wifi:  -5.4650759847734625\n",
            "P value for existence of wifi:  4.6270855607269215e-08\n",
            "\n",
            "Z value for existence of parking:  16.44316559294272\n",
            "P value for existence of parking:  9.388420760710153e-61\n",
            "\n",
            "Z value for existence of tv:  -11.047372155017472\n",
            "P value for existence of tv:  2.2572575239384607e-28\n",
            "\n",
            "Z value for existence of air conditioning:  -11.182192108159342\n",
            "P value for existence of air conditioning:  4.984336134006006e-29\n",
            "\n",
            "Z value for existence of kitchen:  2.241354442608315\n",
            "P value for existence of kitchen:  0.025003125019585355\n",
            "\n"
          ]
        }
      ],
      "source": [
        "\n",
        "from scipy.stats import norm\n",
        "\n",
        "from scipy.optimize.minpack import dtype\n",
        "from sklearn.linear_model import LinearRegression\n",
        "\n",
        "df['review_scores_rating'] = df['review_scores_rating'].replace(-np.inf, 0)\n",
        "y = df['review_scores_rating']\n",
        "\n",
        "#regression analysis of individual amenities\n",
        "df['wifi'] = df['wifiBool'].astype(int)\n",
        "df['tv'] = df['tvBool'].astype(int)\n",
        "df['airConditioning'] = df['airConditioningBool'].astype(int)\n",
        "df['parking'] = df['parkingBool'].astype(int)\n",
        "df['kitchen'] = df['kitchenBool'].astype(int)\n",
        "\n",
        "# Wifi\n",
        "wifi = df[df['wifi'] == 1]['review_scores_rating']\n",
        "no_wifi = df[df['wifi'] == 0]['review_scores_rating']\n",
        "\n",
        "wifi_mean = wifi.mean()\n",
        "wifi_std = wifi.std()\n",
        "no_wifi_mean = no_wifi.mean()\n",
        "no_wifi_std = no_wifi.std()\n",
        "\n",
        "z = (wifi_mean - no_wifi_mean) / np.sqrt(wifi_std**2 / len(wifi) + no_wifi_std**2 / len(no_wifi))\n",
        "p_value = 2*norm.cdf(-abs(z))\n",
        "print(\"Z value for existence of wifi: \", z)\n",
        "print(\"P value for existence of wifi: \", p_value)\n",
        "print()\n",
        "\n",
        "\n",
        "# Parking\n",
        "parking = df[df['parking'] == 1]['review_scores_rating']\n",
        "no_parking = df[df['parking'] == 0]['review_scores_rating']\n",
        "\n",
        "parking_mean = parking.mean()\n",
        "parking_std = parking.std()\n",
        "no_parking_mean = no_parking.mean()\n",
        "no_parking_std = no_parking.std()\n",
        "\n",
        "z = (parking_mean - no_parking_mean) / np.sqrt(parking_std**2 / len(parking) + no_parking_std**2 / len(no_parking))\n",
        "p_value = 2*norm.cdf(-abs(z))\n",
        "print(\"Z value for existence of parking: \", z)\n",
        "print(\"P value for existence of parking: \", p_value)\n",
        "print()\n",
        "\n",
        "# TV\n",
        "tv = df[df['tv'] == 1]['review_scores_rating']\n",
        "no_tv = df[df['tv'] == 0]['review_scores_rating']\n",
        "\n",
        "tv_mean = tv.mean()\n",
        "tv_std = tv.std()\n",
        "no_tv_mean = no_tv.mean()\n",
        "no_tv_std = no_tv.std()\n",
        "\n",
        "z = (tv_mean - no_tv_mean) / np.sqrt(tv_std**2 / len(tv) + no_tv_std**2 / len(no_tv))\n",
        "p_value = 2*norm.cdf(-abs(z))\n",
        "print(\"Z value for existence of tv: \", z)\n",
        "print(\"P value for existence of tv: \", p_value)\n",
        "print()\n",
        "\n",
        "# Air conditioning\n",
        "air_conditioning = df[df['airConditioning'] == 1]['review_scores_rating']\n",
        "no_air_conditioning = df[df['airConditioning'] == 0]['review_scores_rating']\n",
        "\n",
        "air_conditioning_mean = air_conditioning.mean()\n",
        "air_conditioning_std = air_conditioning.std()\n",
        "\n",
        "no_air_conditioning_mean = no_air_conditioning.mean()\n",
        "no_air_conditioning_std = no_air_conditioning.std()\n",
        "\n",
        "z = (air_conditioning_mean - no_air_conditioning_mean) / np.sqrt(air_conditioning_std**2 / len(air_conditioning) + no_air_conditioning_std**2 / len(no_air_conditioning))\n",
        "p_value = 2*norm.cdf(-abs(z))\n",
        "print(\"Z value for existence of air conditioning: \", z)\n",
        "print(\"P value for existence of air conditioning: \", p_value)\n",
        "print()\n",
        "\n",
        "# Kitchen\n",
        "kitchen = df[df['kitchen'] == 1]['review_scores_rating']\n",
        "no_kitchen = df[df['kitchen'] == 0]['review_scores_rating']\n",
        "\n",
        "kitchen_mean = kitchen.mean()\n",
        "kitchen_std = kitchen.std()\n",
        "no_kitchen_mean = no_kitchen.mean()\n",
        "no_kitchen_std = no_kitchen.std()\n",
        "\n",
        "z = (kitchen_mean - no_kitchen_mean) / np.sqrt(kitchen_std**2 / len(kitchen) + no_kitchen_std**2 / len(no_kitchen))\n",
        "p_value = 2*norm.cdf(-abs(z))\n",
        "print(\"Z value for existence of kitchen: \", z)\n",
        "print(\"P value for existence of kitchen: \", p_value)\n",
        "print()"
      ]
    },
    {
      "cell_type": "markdown",
      "metadata": {
        "id": "Yxqpo_SLQtpB"
      },
      "source": [
        "All of these amenities have p values lower than 0.05 therefore we reject the null hypothesis."
      ]
    },
    {
      "cell_type": "markdown",
      "metadata": {
        "id": "gWoY8F-v4ZU0"
      },
      "source": [
        "## Machine Learning Models\n"
      ]
    },
    {
      "cell_type": "code",
      "execution_count": null,
      "metadata": {
        "colab": {
          "base_uri": "https://localhost:8080/"
        },
        "id": "Q-jOMk8wPrTE",
        "outputId": "f5acd9e6-1bce-4540-8b6a-8432eabd7b23",
        "vscode": {
          "languageId": "python"
        }
      },
      "outputs": [
        {
          "name": "stdout",
          "output_type": "stream",
          "text": [
            "Coefficient of existence of wifi: -0.06073086184135102\n",
            "Intercept of existence of wifi: 4.7571190053285966\n",
            "\n",
            "Coefficient of existence of tv: -0.07357158088964182\n",
            "Intercept of existence of tv: 4.735641257995735\n",
            "\n",
            "Coefficient of existence of air conditioner: -0.07147759144716291\n",
            "Intercept of existence of air conditioner: 4.7414901909835\n",
            "\n",
            "Coefficient of existence of parking: 0.21211524841165114\n",
            "Intercept of existence of parking: 4.5198018053375195\n",
            "\n",
            "Coefficient of existence of kitchen: 0.020738093140468008\n",
            "Intercept of existence of kitchen: 4.683366885784716\n",
            "\n",
            "Coefficient of number of beds: 0.007255743135469609\n",
            "Intercept of number of beds: 4.684449877573911\n",
            "\n",
            "Coefficient of number of bedrooms: 0.01444551157509387\n",
            "Intercept of number of bedrooms: 4.6747694380378215\n",
            "\n",
            "Coefficient of price 4.292552042276845e-05\n",
            "Intercept of price 4.690662320982031\n",
            "\n",
            "Coefficent of entire homes/apts:  0.07465596997601706\n",
            "Intercept of entire homes/apts:  4.646970484306797\n",
            "\n",
            "Coefficent of private rooms:  -0.04625893365959525\n",
            "Intercept of private rooms:  4.713063286313382\n",
            "\n",
            "Coefficent of hotel rooms:  -0.3275714129371853\n",
            "Intercept of hotel rooms:  4.7023648013669375\n",
            "\n",
            "Coefficent of shared rooms:  -0.353560322722926\n",
            "Intercept of shared rooms:  4.706206787369391\n",
            "\n"
          ]
        }
      ],
      "source": [
        "\n",
        "\n",
        "Xwifi = df[['wifi']]\n",
        "Xtv = df[['tv']]\n",
        "XairConditioning = df[['airConditioningBool']]\n",
        "Xparking = df[['parking']]\n",
        "Xkitchen = df[['kitchenBool']]\n",
        "\n",
        "modelwifi = LinearRegression()\n",
        "modelwifi.fit(Xwifi, y)\n",
        "\n",
        "modeltv = LinearRegression()\n",
        "modeltv.fit(Xtv, y)\n",
        "\n",
        "modelairConditioning = LinearRegression()\n",
        "modelairConditioning.fit(XairConditioning, y)\n",
        "\n",
        "modelparking = LinearRegression()\n",
        "modelparking.fit(Xparking, y)\n",
        "\n",
        "modelkitchen = LinearRegression()\n",
        "modelkitchen.fit(Xkitchen, y)\n",
        "\n",
        "print(\"Coefficient of existence of wifi:\", modelwifi.coef_[0])\n",
        "print(\"Intercept of existence of wifi:\", modelwifi.intercept_)\n",
        "print()\n",
        "\n",
        "print(\"Coefficient of existence of tv:\", modeltv.coef_[0])\n",
        "print(\"Intercept of existence of tv:\", modeltv.intercept_)\n",
        "print()\n",
        "\n",
        "print(\"Coefficient of existence of air conditioner:\", modelairConditioning.coef_[0])\n",
        "print(\"Intercept of existence of air conditioner:\", modelairConditioning.intercept_)\n",
        "print()\n",
        "\n",
        "print(\"Coefficient of existence of parking:\", modelparking.coef_[0])\n",
        "print(\"Intercept of existence of parking:\", modelparking.intercept_)\n",
        "print()\n",
        "\n",
        "print(\"Coefficient of existence of kitchen:\", modelkitchen.coef_[0])\n",
        "print(\"Intercept of existence of kitchen:\", modelkitchen.intercept_)\n",
        "print()\n",
        "\n",
        "\n",
        "#regression analysis of number of beds\n",
        "mean_beds = df['beds'].mean()\n",
        "df['beds'] = df['beds'].fillna(mean_beds)\n",
        "\n",
        "Xbeds = df[['beds']]\n",
        "\n",
        "modelbeds = LinearRegression()\n",
        "modelbeds.fit(Xbeds, y)\n",
        "\n",
        "print(\"Coefficient of number of beds:\", modelbeds.coef_[0])\n",
        "print(\"Intercept of number of beds:\", modelbeds.intercept_)\n",
        "print()\n",
        "\n",
        "#regression analysis of number of bedrooms\n",
        "mean_bedrooms = df['bedrooms'].mean()\n",
        "df['bedrooms'] = df['bedrooms'].fillna(mean_bedrooms)\n",
        "\n",
        "Xbedrooms = df[['bedrooms']]\n",
        "\n",
        "modelbedrooms = LinearRegression()\n",
        "modelbedrooms.fit(Xbedrooms, y)\n",
        "\n",
        "print(\"Coefficient of number of bedrooms:\", modelbedrooms.coef_[0])\n",
        "print(\"Intercept of number of bedrooms:\", modelbedrooms.intercept_)\n",
        "print()\n",
        "\n",
        "\n",
        "#regression analysis of price\n",
        "Xprice = df[['price']]\n",
        "\n",
        "modelprice = LinearRegression()\n",
        "modelprice.fit(Xprice, y)\n",
        "\n",
        "print(\"Coefficient of price\", modelprice.coef_[0])\n",
        "print(\"Intercept of price\", modelprice.intercept_)\n",
        "print()\n",
        "\n",
        "\n",
        "#regression analysis of individual room types\n",
        "\n",
        "Xentire = df[['Entire home/apt']]\n",
        "Xprivate = df[['Private room']]\n",
        "Xhotel = df[['Hotel room']]\n",
        "Xshared = df[['Shared room']]\n",
        "\n",
        "modelentire = LinearRegression()\n",
        "modelentire.fit(Xentire, y)\n",
        "\n",
        "modelprivate = LinearRegression()\n",
        "modelprivate.fit(Xprivate, y)\n",
        "\n",
        "modelhotel = LinearRegression()\n",
        "modelhotel.fit(Xhotel, y)\n",
        "\n",
        "modelshared = LinearRegression()\n",
        "modelshared.fit(Xshared, y)\n",
        "\n",
        "print(\"Coefficent of entire homes/apts: \", modelentire.coef_[0])\n",
        "print(\"Intercept of entire homes/apts: \", modelentire.intercept_)\n",
        "print()\n",
        "\n",
        "print(\"Coefficent of private rooms: \", modelprivate.coef_[0])\n",
        "print(\"Intercept of private rooms: \", modelprivate.intercept_)\n",
        "print()\n",
        "\n",
        "print(\"Coefficent of hotel rooms: \", modelhotel.coef_[0])\n",
        "print(\"Intercept of hotel rooms: \", modelhotel.intercept_)\n",
        "print()\n",
        "\n",
        "print(\"Coefficent of shared rooms: \", modelshared.coef_[0])\n",
        "print(\"Intercept of shared rooms: \", modelshared.intercept_)\n",
        "print()\n"
      ]
    },
    {
      "cell_type": "code",
      "execution_count": null,
      "metadata": {
        "colab": {
          "base_uri": "https://localhost:8080/",
          "height": 921
        },
        "id": "oaR8LcPAPrTF",
        "outputId": "1ae07e15-947b-440c-9cd7-bcdba631c927",
        "vscode": {
          "languageId": "python"
        }
      },
      "outputs": [
        {
          "name": "stderr",
          "output_type": "stream",
          "text": [
            "/usr/local/lib/python3.8/dist-packages/sklearn/base.py:493: FutureWarning: The feature names should match those that were passed during fit. Starting version 1.2, an error will be raised.\n",
            "Feature names unseen at fit time:\n",
            "- kitchenBool\n",
            "Feature names seen at fit time, yet now missing:\n",
            "- beds\n",
            "\n",
            "  warnings.warn(message, FutureWarning)\n"
          ]
        },
        {
          "data": {
            "image/png": "[encoded data removed]",
            "text/plain": [
              "<Figure size 1440x360 with 6 Axes>"
            ]
          },
          "metadata": {
            "needs_background": "light"
          },
          "output_type": "display_data"
        },
        {
          "name": "stderr",
          "output_type": "stream",
          "text": [
            "/usr/local/lib/python3.8/dist-packages/sklearn/base.py:493: FutureWarning: The feature names should match those that were passed during fit. Starting version 1.2, an error will be raised.\n",
            "Feature names unseen at fit time:\n",
            "- Hotel room\n",
            "Feature names seen at fit time, yet now missing:\n",
            "- Private room\n",
            "\n",
            "  warnings.warn(message, FutureWarning)\n"
          ]
        },
        {
          "data": {
            "image/png": "[encoded data removed]",
            "text/plain": [
              "<Figure size 1440x360 with 5 Axes>"
            ]
          },
          "metadata": {
            "needs_background": "light"
          },
          "output_type": "display_data"
        }
      ],
      "source": [
        "\n",
        "# Set up the figure and subplots\n",
        "fig, axs = plt.subplots(nrows=1, ncols=6, figsize=(20, 5))\n",
        "\n",
        "# Plot the model for wifi\n",
        "axs[0].scatter(Xwifi, y, color='b')\n",
        "axs[0].plot(Xwifi, modelwifi.predict(Xwifi), color='k')\n",
        "axs[0].set_xlabel('Wifi')\n",
        "axs[0].set_ylabel('Review scores rating')\n",
        "axs[0].set_xticks([0, 1])\n",
        "axs[0].set_xticklabels(['No', 'Yes'])\n",
        "\n",
        "# Plot the model for tv\n",
        "axs[1].scatter(Xtv, y, color='b')\n",
        "axs[1].plot(Xtv, modeltv.predict(Xtv), color='k')\n",
        "axs[1].set_xlabel('TV')\n",
        "axs[1].set_ylabel('Review scores rating')\n",
        "axs[1].set_xticks([0, 1])\n",
        "axs[1].set_xticklabels(['No', 'Yes'])\n",
        "\n",
        "# Plot the model for air conditioning\n",
        "axs[2].scatter(XairConditioning, y, color='b')\n",
        "axs[2].plot(XairConditioning, modelairConditioning.predict(XairConditioning), color='k')\n",
        "axs[2].set_xlabel('Air conditioning')\n",
        "axs[2].set_ylabel('Review scores rating')\n",
        "axs[2].set_xticks([0, 1])\n",
        "axs[2].set_xticklabels(['No', 'Yes'])\n",
        "\n",
        "# Plot the model for parking\n",
        "axs[3].scatter(Xparking, y, color='b')\n",
        "axs[3].plot(Xparking, modelparking.predict(Xparking), color='k')\n",
        "axs[3].set_xlabel('Parking')\n",
        "axs[3].set_ylabel('Review scores rating')\n",
        "axs[3].set_xticks([0, 1])\n",
        "axs[3].set_xticklabels(['No', 'Yes'])\n",
        "\n",
        "# Plot the model for kitchen\n",
        "axs[4].scatter(Xkitchen, y, color='b')\n",
        "axs[4].plot(Xkitchen, modelkitchen.predict(Xkitchen), color='k')\n",
        "axs[4].set_xlabel('Kitchen')\n",
        "axs[4].set_ylabel('Review scores rating')\n",
        "axs[4].set_xticks([0, 1])\n",
        "axs[4].set_xticklabels(['No', 'Yes'])\n",
        "\n",
        "# Plot the model for beds\n",
        "axs[5].scatter(Xbeds, y, color='b')\n",
        "axs[5].plot(Xkitchen, modelbeds.predict(Xkitchen), color='k')\n",
        "axs[5].set_xlabel('Beds')\n",
        "axs[5].set_ylabel('Review scores rating')\n",
        "axs[5].set_xticks([1, 26])\n",
        "\n",
        "\n",
        "plt.show()\n",
        "\n",
        "\n",
        "fig, axs = plt.subplots(nrows=1, ncols=5, figsize=(20, 5))\n",
        "\n",
        "# Plot the model for entire room\n",
        "axs[0].scatter(Xentire, y, color='b')\n",
        "axs[0].plot(Xentire, modelentire.predict(Xentire), color='k')\n",
        "axs[0].set_xlabel('Entire home')\n",
        "axs[0].set_ylabel('Review scores rating')\n",
        "axs[0].set_xticks([0, 1])\n",
        "axs[0].set_xticklabels(['No', 'Yes'])\n",
        "\n",
        "# Plot the model for shared room\n",
        "axs[1].scatter(Xshared, y, color='b')\n",
        "axs[1].plot(Xshared, modelshared.predict(Xshared), color='k')\n",
        "axs[1].set_xlabel('Shared room')\n",
        "axs[1].set_ylabel('Review scores rating')\n",
        "axs[1].set_xticks([0, 1])\n",
        "axs[1].set_xticklabels(['No', 'Yes'])\n",
        "\n",
        "# Plot the model for private room\n",
        "axs[2].scatter(Xprivate, y, color='b')\n",
        "axs[2].plot(Xprivate, modelprivate.predict(Xhotel), color='k')\n",
        "axs[2].set_xlabel('Private room')\n",
        "axs[2].set_ylabel('Review scores rating')\n",
        "axs[2].set_xticks([0, 1])\n",
        "axs[2].set_xticklabels(['No', 'Yes'])\n",
        "\n",
        "# Plot the model for hotel room\n",
        "axs[3].scatter(Xhotel, y, color='b')\n",
        "axs[3].plot(Xhotel, modelhotel.predict(Xhotel), color='k')\n",
        "axs[3].set_xlabel('Hotel room')\n",
        "axs[3].set_ylabel('Review scores rating')\n",
        "axs[3].set_xticks([0, 1])\n",
        "axs[3].set_xticklabels(['No', 'Yes'])\n",
        "\n",
        "# Plot the model for bedrooms\n",
        "axs[4].scatter(Xbedrooms, y, color='b')\n",
        "axs[4].plot(Xbedrooms, modelbedrooms.predict(Xbedrooms), color='k')\n",
        "axs[4].set_xlabel('Bedrooms')\n",
        "axs[4].set_ylabel('Review scores rating')\n",
        "axs[4].set_xticks([0, 23])\n",
        "\n",
        "\n",
        "plt.show()\n"
      ]
    },
    {
      "cell_type": "code",
      "execution_count": null,
      "metadata": {
        "colab": {
          "base_uri": "https://localhost:8080/"
        },
        "id": "GbYuSK6MPrTG",
        "outputId": "f89e9225-dba9-4cbb-c2ee-df839e23388e",
        "vscode": {
          "languageId": "python"
        }
      },
      "outputs": [
        {
          "name": "stdout",
          "output_type": "stream",
          "text": [
            "MAE: 0.3067417865309087\n",
            "R2: 0.024675364329887373\n"
          ]
        }
      ],
      "source": [
        "import pandas as pd\n",
        "from sklearn.model_selection import train_test_split\n",
        "from sklearn.preprocessing import StandardScaler\n",
        "from sklearn.tree import DecisionTreeRegressor\n",
        "from sklearn.metrics import mean_absolute_error, r2_score\n",
        "\n",
        "\n",
        "\n",
        "# Select the relevant columns for training\n",
        "X = df[['wifi', 'airConditioning','parking', 'kitchen', 'tv']]\n",
        "y = df['review_scores_rating']\n",
        "\n",
        "# Split the data into training and testing sets\n",
        "X_train, X_test, y_train, y_test = train_test_split(X, y, test_size=0.2, random_state=42)\n",
        "\n",
        "# Standardize the input features\n",
        "scaler = StandardScaler()\n",
        "X_train = scaler.fit_transform(X_train)\n",
        "X_test = scaler.transform(X_test)\n",
        "\n",
        "# Train the model\n",
        "model = DecisionTreeRegressor()\n",
        "model.fit(X_train, y_train)\n",
        "\n",
        "# Predict the test target values\n",
        "y_pred = model.predict(X_test)\n",
        "\n",
        "# Calculate the performance metrics\n",
        "mae = mean_absolute_error(y_test, y_pred)\n",
        "r2 = r2_score(y_test, y_pred)\n",
        "print('MAE:', mae)\n",
        "print('R2:', r2)\n"
      ]
    },
    {
      "cell_type": "code",
      "execution_count": null,
      "metadata": {
        "colab": {
          "base_uri": "https://localhost:8080/"
        },
        "id": "Mj--HZSsPrTH",
        "outputId": "662775b8-38e9-4b8b-cb52-bf68d4f9a9f3",
        "vscode": {
          "languageId": "python"
        }
      },
      "outputs": [
        {
          "name": "stdout",
          "output_type": "stream",
          "text": [
            "MAE: 0.3068977898142212\n",
            "R2: 0.02471352564833984\n"
          ]
        }
      ],
      "source": [
        "import pandas as pd\n",
        "from sklearn.model_selection import train_test_split\n",
        "from sklearn.preprocessing import StandardScaler\n",
        "from sklearn.ensemble import RandomForestRegressor\n",
        "from sklearn.metrics import mean_absolute_error, r2_score\n",
        "\n",
        "# Select the relevant columns for training\n",
        "X = df[['wifi', 'airConditioning', 'parking', 'kitchen', 'tv']]\n",
        "y = df['review_scores_rating']\n",
        "\n",
        "# Split the data into training and testing sets\n",
        "X_train, X_test, y_train, y_test = train_test_split(X, y, test_size=0.2, random_state=42)\n",
        "\n",
        "# Standardize the input features\n",
        "scaler = StandardScaler()\n",
        "X_train = scaler.fit_transform(X_train)\n",
        "X_test = scaler.transform(X_test)\n",
        "\n",
        "# Train the model\n",
        "model = RandomForestRegressor()\n",
        "model.fit(X_train, y_train)\n",
        "\n",
        "# Predict the test target values\n",
        "y_pred = model.predict(X_test)\n",
        "\n",
        "# Calculate the performance metrics\n",
        "mae = mean_absolute_error(y_test, y_pred)\n",
        "r2 = r2_score(y_test, y_pred)\n",
        "print('MAE:', mae)\n",
        "print('R2:', r2)"
      ]
    },
    {
      "cell_type": "markdown",
      "metadata": {
        "id": "L8mRHzGc4SH0"
      },
      "source": [
        "## Conclusion\n",
        "\n",
        "<font color=\"white\">\n",
        "\n",
        "- As we stated earlier, our main goal is to assist individuals in finding accommodations that align with their preferences, while also providing insights for hosts regarding how they can improve their listings to get higher ratings.\n",
        "\n",
        "- According to our analysis of the Los Angeles AirBnB data, there are multiple apparent factors that affect average ratings of individual listings. Availability of parking spots and kitchens are one important factor, in addition, increasing number of beds and bedrooms has positive impact on ratings as well. Furthermore, entire homes and apartmens has higher average ratings than other types of listings such as private/shared rooms and hotel rooms.\n",
        "\n",
        "- Accuracy of our machine learning model is not very high since there is no significant increase/ decrease in ratings with respect to different factors (for example, existence of parking spot has a positive impact on average rating, yet it only increases from around 4.5 to 4.7). A deeper analysis of AirBnb databases may result in a more accurate machine learning algorithm, which we will be talking about in the future work part. \n",
        "\n",
        "\n",
        "<br>\n",
        "\n",
        "</font>\n"
      ]
    },
    {
      "cell_type": "markdown",
      "metadata": {
        "id": "8h0G5RNzuABB"
      },
      "source": [
        "## Future Work\n",
        "\n",
        "<font color=\"white\">\n",
        "\n",
        "- In the future, the methods that are used here can also be used for other cities as well as Los Angeles to see if there are any other regional factors that might have influence over the ratings. Furthermore, our model can be further improved to predict the expected rating of an accommodation if certain features are satisfied for the accommodation.\n",
        "\n",
        "- In addition, our work can be further improved for predicting other countries that have Airbnb service, and more defining and influencing factors might be collected, and the ratings could be analyzed more deeply. Thus the users from other countries may benefit from the outcomes of this and further researches.\n",
        "\n",
        "- Furthermore, additional machine learning models and statistic methods could be used for additional research to predict an approximate rating for the accommodation or finding what factors have greater effect on altering rating of the accommodation.\n",
        "\n",
        "- Lastly, the some amenities of the accommodations that are written explicitly such as 'LG Smart TV' could be handled as special cases. Since we have filtered such amenities, future researches might choose to analyze explicit amenities more deeply and fill the missing data with suitable values. After doing so, there is a posibility of acquiring more precise results by collecting more data in future.\n",
        "<br>\n",
        "\n",
        "</font>"
      ]
    },
    {
      "cell_type": "markdown",
      "metadata": {
        "id": "aw-zON5bt0pd"
      },
      "source": [
        "## Work Division\n",
        "\n",
        "<font color=\"white\">\n",
        "\n",
        "In our project,\n",
        "\n",
        "- Alperen is in charge of Hypothesis Testing and analysis of linear regression models.\n",
        "\n",
        "\n",
        "- Batur is responsible for preparing the documentation, adding some features and help with Hypothesis Testing.\n",
        "\n",
        "\n",
        "- Cansın manages the visualization of the datasets and refactoring some of the columns to increase usability.\n",
        "\n",
        "\n",
        "- Cenker is in control of preparing the documentation and improved the the visualization.\n",
        "\n",
        "\n",
        "- Enes is taking care of cleaning of the dataset and feature enginnering.\n",
        "\n",
        "\n",
        "- İdil is mostly concerned with machine learning and handling the amenities feature.\n",
        "\n",
        "\n",
        "In addition, the tasks of each teammate are not necessarily fixed. Each member of the team aids one another when they have time. Furthermore, they gather or find methods, data, information that might contribute to the project.\n",
        "<br>\n",
        "\n",
        "</font>"
      ]
    }
  ],
  "metadata": {
    "colab": {
      "collapsed_sections": [
        "B2omK2BI4KyB",
        "ZjWMWVoA4NcV",
        "L8mRHzGc4SH0",
        "8h0G5RNzuABB"
      ],
      "provenance": []
    },
    "kernelspec": {
      "display_name": "Python 3",
      "name": "python3"
    }
  },
  "nbformat": 4,
  "nbformat_minor": 0
}
